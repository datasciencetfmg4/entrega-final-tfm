{
 "cells": [
  {
   "cell_type": "markdown",
   "metadata": {},
   "source": [
    "# Índice\n",
    "1. [Importación de Dependencias](#importación-de-dependencias)\n",
    "2. [Configuración del Notebook](#configuración-del-notebook)\n",
    "    1. [Configuración Global](#configuracion-global)\n",
    "    2. [Configuración de la Predicción](#configuracion-de-la-prediccion)\n",
    "    3. [Configuración de Hiperparámetros](#configuracion-de-hiperparametros)\n",
    "3. [Funciones Auxiliares](#funciones-auxiliares)\n",
    "    1. [getDataFramesForTrainAndTest()](#getdataframesfortrainandtest)\n",
    "    2. [getMegaDF()](#getmegadf)\n",
    "    3. [adjustDataFrameForUseCase()](#adjustdataframeforusecase)\n",
    "    4. [enrichDF()](#enrichdf)\n",
    "    5. [initializeResumeData()](#initializeresumedata)\n",
    "4. [Creación del CSV Agregado](#creación-del-csv-agregado)\n",
    "5. [Exploración de los datos](#exploración-de-los-datos)\n",
    "    1. [Evaluación de los datos nulos](#evaluación-de-datos-nulos-)\n",
    "    2. [Tipos de tiendas](#tipos-de-tiendas)\n",
    "    3. [Exploración de las ventas por tipo de tienda](#exploración-de-las-ventas-por-tipo-de-tienda)\n",
    "    4. [Evaluación de las ventas por temporalidad](#evaluación-de-ventas-por-temporalidad)\n",
    "    5. [Información del tipo de columnas](#información-del-tipo-de-las-columnas)\n",
    "6. [Evaluador Masivo de Modelos de Predicción](#evaluador-masivo-de-modelos-de-predicción)\n",
    "    1. [Enriquecimiento del DataSet](#enriquecimiento-del-dataset)\n",
    "        1. [Evaluación de los datos nulos](#evaluación-de-datos-nulos--1)\n",
    "        2. [Total datos para el entrenamiento](#total-datos-para-el-entrenamiento)\n",
    "    2. [Pipelines de Preprocesamiento](#pipelines-de-preprocesamiento)\n",
    "        1. [Normalización de datos y PCA](#normalización-de-datos-y-pca)\n",
    "    3. [PCA. Análisis de las Componentes Principales](#pca-análisis-de-las-componentes-principales)\n",
    "        1. [Varianza por Componente Principal](#varianza-por-componente-principal)\n",
    "        2. [Varianza Acumulada](#varianza-acumulada)\n",
    "    4. [Pipelines de Predicción](#pipelines-de-predicción)\n",
    "        1. [Pipeline - Regresión Lineal](#pipeline---regresión-lineal)\n",
    "        2. [Pipeline - Árboles de Decisión](#pipeline---árboles-de-decisión)\n",
    "        3. [Pipeline - Lasso](#pipeline---lasso)\n",
    "        4. [Pipeline - Bosques Aleatorios](#pipeline---bosques-aleatorios)\n",
    "        5. [Pipeline - Stacking Regressor](#pipeline---stacking-regressor)\n",
    "    5. [Motor de Evaluación](#motor-de-evaluación)\n"
   ]
  },
  {
   "cell_type": "markdown",
   "metadata": {},
   "source": [
    "# Importación de dependencias"
   ]
  },
  {
   "cell_type": "code",
   "execution_count": 1,
   "metadata": {
    "ExecuteTime": {
     "end_time": "2024-05-25T16:22:50.885747Z",
     "start_time": "2024-05-25T16:22:50.876439Z"
    },
    "tags": []
   },
   "outputs": [],
   "source": [
    "import pandas as pd\n",
    "import time\n",
    "import  os\n",
    "from collections import defaultdict\n",
    "import warnings\n",
    "warnings.filterwarnings('ignore') \n",
    "from sklearn.model_selection import train_test_split, GridSearchCV, KFold\n",
    "from IPython.display import display\n",
    "from sklearn import metrics\n",
    "import numpy as np\n",
    "import matplotlib.pyplot as plt\n",
    "# Pipelines Dependencies\n",
    "from sklearn.pipeline import Pipeline\n",
    "from sklearn.impute import SimpleImputer\n",
    "from sklearn.preprocessing import StandardScaler\n",
    "from sklearn.compose import ColumnTransformer\n",
    "from sklearn.decomposition import PCA\n",
    "import seaborn as sns\n",
    "# Machine Learning Algorithms\n",
    "from sklearn.linear_model import LinearRegression\n",
    "from sklearn.tree import DecisionTreeRegressor\n",
    "from sklearn.linear_model import Lasso\n",
    "from sklearn.ensemble import RandomForestRegressor, StackingRegressor\n",
    "from IPython.core.display import HTML"
   ]
  },
  {
   "cell_type": "markdown",
   "metadata": {},
   "source": [
    "# Configuración del Notebook"
   ]
  },
  {
   "cell_type": "markdown",
   "metadata": {},
   "source": [
    "## Configuración Global"
   ]
  },
  {
   "cell_type": "code",
   "execution_count": 2,
   "metadata": {
    "ExecuteTime": {
     "end_time": "2024-05-25T09:59:13.970566Z",
     "start_time": "2024-05-25T09:59:12.752908Z"
    },
    "tags": []
   },
   "outputs": [],
   "source": [
    "# Configuración de Directorios\n",
    "data_directory = \"data\"\n",
    "csv_evaluation_resume = \"csv_evaluation_resume.csv\"\n",
    "store_csv_path = data_directory + \"/store.csv\"\n",
    "store_data_csv_path = data_directory + \"/store-data.csv\"\n",
    "\n",
    "# Configuramos el número de ventanas temporales y los días que se recuperan del\n",
    "# dataset global.\n",
    "windows = [\n",
    "    7, \n",
    "    15, \n",
    "    30, \n",
    "    60,\n",
    "    90, \n",
    "   120, \n",
    "   180, \n",
    "   365, \n",
    "   730, \n",
    "   1095\n",
    "]\n",
    "\n",
    "# Configuramos por cada ventana temporal el porcentaje de datos que se usarán\n",
    "# para el entrenamiento.\n",
    "percents_by_windows = [\n",
    "    1.0, \n",
    "   0.90, \n",
    "   0.75, \n",
    "   0.5, \n",
    "   0.25, \n",
    "   0.1, \n",
    "   0.05, \n",
    "   0.01\n",
    "]\n",
    "\n",
    "# Cargamos los ficheros CSV en DataFrames de pandas\n",
    "storeDF = pd.read_csv(store_csv_path)\n",
    "storeDataDF = pd.read_csv(store_data_csv_path)\n",
    "\n",
    "# Esta variable permite definir las columnas que se eliminarán del DataFrame\n",
    "# que no vamos a usar en el TFM en ningún caso de uso.\n",
    "columns_to_drop = [\n",
    "]\n",
    "\n",
    "# Esta variable permite definir el porcentaje de datos que se usarán para \n",
    "# el entrenamiento\n",
    "percent_train = 0.8\n",
    "\n",
    "scoring = {'r2':'r2','rmae':'neg_root_mean_squared_error','mae':'neg_mean_squared_error'}"
   ]
  },
  {
   "cell_type": "markdown",
   "metadata": {},
   "source": [
    "## Configuración de la Predicción"
   ]
  },
  {
   "cell_type": "code",
   "execution_count": 3,
   "metadata": {
    "ExecuteTime": {
     "end_time": "2024-05-25T09:59:17.214166Z",
     "start_time": "2024-05-25T09:59:17.207656Z"
    },
    "tags": []
   },
   "outputs": [],
   "source": [
    "# Con el DataSet enriquecido, esta variable nos permite seleccionar\n",
    "# que columnas queremos usar para el entrenamiento\n",
    "columns_for_inference = [\n",
    "\t#\"Store\", ojo\n",
    "    \"StoreType\",\n",
    "    \"Assortment\",\n",
    "    \"Promo2\", \n",
    "    \"Promo2SinceWeek\",\t\n",
    "    \"Promo2SinceYear\",\n",
    "    \"DayOfWeek\", \n",
    "    \"Customers\",\t\n",
    "    \"Open\",\t\n",
    "    \"Promo\",\t\n",
    "    \"StateHoliday\",\n",
    "    \"SchoolHoliday\",\n",
    "    \"SalesDay\",\n",
    "    \"SalesMonth\",\n",
    "    \"SalesYear\",\n",
    "    \"PromoIntervalMonth1\", \n",
    "    \"PromoIntervalMonth2\", \n",
    "    \"PromoIntervalMonth3\", \n",
    "    \"PromoIntervalMonth4\",\n",
    "    \"CompetitionOpenSinceYear\",\n",
    "    \"CompetitionDistance\",\n",
    "    \"CompetitionOpenSinceMonth\"\n",
    "]\n",
    "\n",
    "# Esta variable define que columna que se usará para predecir\n",
    "column_to_predict = 'Sales'"
   ]
  },
  {
   "cell_type": "markdown",
   "metadata": {},
   "source": [
    "## Configuración de Hiperparámetros\n",
    "En esta sección se configuran los hiperparámetros que utilizarán los modelos de predicción"
   ]
  },
  {
   "cell_type": "code",
   "execution_count": 4,
   "metadata": {
    "ExecuteTime": {
     "end_time": "2024-05-25T09:59:26.532381Z",
     "start_time": "2024-05-25T09:59:26.526202Z"
    },
    "tags": []
   },
   "outputs": [],
   "source": [
    "pca_no_componentes = 16\n",
    "pipeline_random_state = 42\n",
    "\n",
    "# Lasso - Hiperparámetros\n",
    "lasso_alpha = 1\n",
    "lasso_selection = 'cyclic'\n",
    "lasso_max_iter = 5\n",
    "lasso_tol = 1e-05\n",
    "lasso_final_max_iter = 50\n",
    "lassos_final_tot = 1e-04\n",
    "\n",
    "# Decision Tree Regressor - Hiperparámetros\n",
    "dtr_max_depth = 15\n",
    "dtr_min_samples_leaf = 3\n",
    "dtr_min_samples_split = 8\n",
    "\n",
    "# Random Forest Regressor - Hiperparámetros\n",
    "rfr_n_estimators = 10"
   ]
  },
  {
   "cell_type": "markdown",
   "metadata": {},
   "source": [
    "# Funciones Auxiliares\n",
    "En esta sección están codificadas las funciones auxiliares que necesita el motor de evaluación."
   ]
  },
  {
   "cell_type": "markdown",
   "metadata": {},
   "source": [
    "## getDataFramesForTrainAndTest()\n",
    "Esta función se encarga de obtener los datos de entrenamiento y test a partir del dataframe\n",
    "generado por la función anterior, permitiendo decidir en esta función, que columnas se usarán\n",
    "para inferir y cual se utilizará para predecir. Los argumentos que recibe son:\n",
    "- `dataFrame`: DataFrame que contiene los datos mergeados de los ficheros CSV.\n",
    "- `percent_train`: Porcentaje de datos que se utilizarán para entrenar\n",
    "- `columns_for_inference`: columnas que se utilizarán para inferir en los datos de entrenamiento y test\n",
    "- `column_to_predict`: columna que se utilizará para predecir en los datos de entrenamiento y test"
   ]
  },
  {
   "cell_type": "code",
   "execution_count": 5,
   "metadata": {
    "ExecuteTime": {
     "end_time": "2024-05-25T09:59:29.256577Z",
     "start_time": "2024-05-25T09:59:29.249086Z"
    },
    "tags": []
   },
   "outputs": [],
   "source": [
    "def getDataFramesForTrainAndTest(dataFrame, \n",
    "                                 percent_train, \n",
    "                                 columns_for_inference, \n",
    "                                 column_to_predict): \n",
    "\n",
    "    features = dataFrame[columns_for_inference]\n",
    "    target = dataFrame[[column_to_predict]]\n",
    "\n",
    "    return train_test_split(features, \n",
    "                            target, \n",
    "                            test_size=(1.0-percent_train), \n",
    "                            random_state=0)"
   ]
  },
  {
   "cell_type": "markdown",
   "metadata": {},
   "source": [
    "## getMegaDF()\n",
    "Esta función se encarga de obtener un Mega DataFrame (megaDF), unión de los dos CSV's en fichero y de eliminar aquellas columnas que no se usarán en ningún caso de uso del TFM\n",
    "- `storeDF`: DataFrame que contiene los datos del archivo store.csv\n",
    "- `storeDataDF`: DataFrame que contiene los datos del archivo store-data.csv\n",
    "- `columns_to_drop`: Lista de columnas que queremos eliminar del Mega DataFrame"
   ]
  },
  {
   "cell_type": "code",
   "execution_count": 6,
   "metadata": {
    "ExecuteTime": {
     "end_time": "2024-05-25T19:47:21.163240Z",
     "start_time": "2024-05-25T19:47:21.159157Z"
    },
    "tags": []
   },
   "outputs": [],
   "source": [
    "def getMegaDF(storeDF, \n",
    "              storeDataDF, \n",
    "              columns_to_drop):\n",
    "\n",
    "    # Para poder tener todos los datos de entrada en una sola tabla \n",
    "    # mergeamos el DataFrame storeDF con el DataFrame storeDataDF \n",
    "    # por la columna Store\n",
    "    megaDF = storeDF.merge(storeDataDF, on='Store')\n",
    "\n",
    "    # Eliminamos las columnas del DataFrame mergeado que no\n",
    "    # vamos a usar para la inferencia\n",
    "    megaDF = megaDF.drop(columns=columns_to_drop)\n",
    "    \n",
    "    # Eliminamos las filas que contienen valores nulos\n",
    "    # megaDF = megaDF.dropna() ojo\n",
    "    \n",
    "    # Reajustamos el tipo de la columna Date a datetime\n",
    "    megaDF['Date'] = pd.to_datetime(megaDF['Date'])\n",
    "        \n",
    "    return megaDF"
   ]
  },
  {
   "cell_type": "markdown",
   "metadata": {},
   "source": [
    "## adjustDataFrameForUseCase()\n",
    "Esta función se encarga de ajustar el Mega DataFrame original al caso de uso que se quiere analizar en el TFM. Los argumentos de entrada que recibe son:\n",
    "- `megaDF`: Mega DataFrame original de la unión de los CSV's sin las columnas innecesarias\n",
    "- `last_no_days`: Número de días que queremos obtener a partir de la fecha más reciente\n",
    "- `percent_of_returned_rows`: Porcentaje de filas que queremos obtener del DataFrame mergeado"
   ]
  },
  {
   "cell_type": "code",
   "execution_count": 7,
   "metadata": {
    "ExecuteTime": {
     "end_time": "2024-05-25T10:54:47.096486Z",
     "start_time": "2024-05-25T10:54:47.088216Z"
    },
    "tags": []
   },
   "outputs": [],
   "source": [
    "\n",
    "def adjustDataFrameForUseCase(megaDF, \n",
    "                              last_no_days, \n",
    "                              percent_of_returned_rows):\n",
    "\n",
    "    # Determinamos la fecha más reciente del DataFrame storeDataDF que nos \n",
    "    # servirá como pivote para obtener los datos de los últimos last_no_days días\n",
    "    last_date = megaDF['Date'].max()\n",
    "\n",
    "    # Determinamos la fecha mínima desde la cual queremos obtener registros\n",
    "    # del DataFrame storeDataDF\n",
    "    minDate = pd.to_datetime(last_date) - pd.DateOffset(days=last_no_days)\n",
    "\n",
    "    # Reajustamos el tipo de la columna Date a datetime\n",
    "    # megaDF['Date'] = pd.to_datetime(megaDF['Date']) ojo\n",
    "\n",
    "    # Obtenemos los datos de storeDataDF a partir de la fecha minDate hasta la\n",
    "    # fecha más reciente o last_date    \n",
    "    megaDF = megaDF[megaDF['Date'] > minDate]\n",
    "\n",
    "    # Obtener un porcentaje del total de filas del DataFrame\n",
    "    # para poder hacer pruebas\n",
    "    megaDF = megaDF.sample(frac=percent_of_returned_rows)\n",
    "        \n",
    "    return megaDF"
   ]
  },
  {
   "cell_type": "markdown",
   "metadata": {},
   "source": [
    "## enrichDF()\n",
    "Esta función la utilizaremos para enriquecer el CSV Agregado (megaDF) con nuevas columnas a partir de los datos que ya contiene y para convertir las columnas categóricas en columnas numéricas.\n",
    "- `sourceDF`: Mega DataFrame que se va a enriquecer"
   ]
  },
  {
   "cell_type": "code",
   "execution_count": 8,
   "metadata": {
    "ExecuteTime": {
     "end_time": "2024-05-25T21:38:44.579793Z",
     "start_time": "2024-05-25T21:38:44.566662Z"
    },
    "tags": []
   },
   "outputs": [],
   "source": [
    "\n",
    "def enrichDF(sourceDF):\n",
    "    \n",
    "    sourceDF['Date'] = pd.to_datetime(sourceDF['Date'])  # Ensure the Date column is in datetime format\n",
    "    \n",
    "    # Hacemos split de la columna Date en tres columnas nuevas: SalesDay, SalesMonth y SalesYear, que\n",
    "    # permiten usar como numérico la fecha en String.\n",
    "    sourceDF['SalesDay'] = sourceDF['Date'].dt.day\n",
    "    sourceDF['SalesMonth'] = sourceDF['Date'].dt.month\n",
    "    sourceDF['SalesYear'] = sourceDF['Date'].dt.year\n",
    "    \n",
    "    # Mapeamos los valores categóricos de la columna PromoInterval a valores numéricos\n",
    "    month_mapping = {\n",
    "        None:0, \n",
    "        'Jan': 1, \n",
    "        'Feb': 2, \n",
    "        'Mar': 3, \n",
    "        'Apr': 4, \n",
    "        'May': 5, \n",
    "        'Jun': 6, \n",
    "        'Jul': 7, \n",
    "        'Aug': 8, \n",
    "        'Sept': 9, \n",
    "        'Oct': 10, \n",
    "        'Nov': 11, \n",
    "        'Dec': 12\n",
    "    }\n",
    "    \n",
    "    # Definimos las nuevas columnas a crear para cada valor de la columna PromoInterval\n",
    "    promo_interval_columns = [\n",
    "        'PromoIntervalMonth1', \n",
    "        'PromoIntervalMonth2', \n",
    "        'PromoIntervalMonth3', \n",
    "        'PromoIntervalMonth4'\n",
    "    ]\n",
    "    \n",
    "    # Convertimos a String los valores de la columna PromoInterval\n",
    "    sourceDF['PromoInterval'] = \\\n",
    "        sourceDF['PromoInterval'].astype(str)\n",
    "    \n",
    "    # Hacemos split de la columna PromoInterval en cuatro columnas nuevas\n",
    "    sourceDF[promo_interval_columns] = \\\n",
    "        sourceDF['PromoInterval'].str.split(',', expand=True)\n",
    "    \n",
    "    # Mapeamos los valores de las nuevas columnas a valores numéricos y los valores no existentes pasan a ser cero\n",
    "    sourceDF[promo_interval_columns] = \\\n",
    "        sourceDF[promo_interval_columns].applymap(month_mapping.get)\n",
    "    \n",
    "    # Eliminamos la columna PromoInterval\n",
    "    sourceDF = sourceDF.drop('PromoInterval', axis=1)\n",
    "    \n",
    "    # Mapeamos los valores categóricos de la columna StateHoliday a valores numéricos\n",
    "    state_holiday_mapping = {\n",
    "        '0':0, \n",
    "        'a':1, \n",
    "        'b':2, \n",
    "        'c':3\n",
    "    }\n",
    "    # Convertimos a String los valores de la columna StateHoliday\n",
    "    sourceDF['StateHoliday'] = \\\n",
    "        sourceDF['StateHoliday'].astype(str)\n",
    "    \n",
    "    # Mapeamos los valores de la columna StateHoliday a valores numéricos\n",
    "    sourceDF['StateHoliday'] = \\\n",
    "        sourceDF['StateHoliday'].map(state_holiday_mapping)\n",
    "\n",
    "    # Mapeamos los valores categóricos de la columna StoreType a valores numéricos\n",
    "    story_type_mapping = {\n",
    "        'a': 1,\n",
    "        'b': 2,\n",
    "        'c': 3,\n",
    "        'd': 4\n",
    "    }\n",
    "\n",
    "    # Convertimos a String los valores de la columna StoreType\n",
    "    sourceDF['StoreType'] = \\\n",
    "        sourceDF['StoreType'].astype(str)\n",
    "    \n",
    "    # Mapeamos los valores de la columna StoreType a valores numéricos\n",
    "    sourceDF['StoreType'] = \\\n",
    "        sourceDF['StoreType'].map(story_type_mapping)\n",
    "    \n",
    "    # Mapeamos los valores categóricos de la columna Assortment a valores numéricos\n",
    "    assortment_mapping = {\n",
    "        'a': 1,\n",
    "        'b': 2,\n",
    "        'c': 3\n",
    "    }\n",
    "\n",
    "    # Convertimos a String los valores de la columna Assortment\n",
    "    sourceDF['Assortment'] = \\\n",
    "        sourceDF['Assortment'].astype(str)\n",
    "    \n",
    "    # Mapeamos los valores de la columna Assortment a valores numéricos\n",
    "    sourceDF['Assortment'] = \\\n",
    "        sourceDF['Assortment'].map(assortment_mapping)\n",
    "    \n",
    "    # Conjuntos de columnas  con nulos e imputación de los datos con ceros por ausencia de dato\n",
    "    listado_columas_con_nullos = \\\n",
    "        ['Promo2SinceWeek','Promo2SinceYear'] + promo_interval_columns\n",
    "    for columna in listado_columas_con_nullos:\n",
    "        #inserción de ceros en los datos faltantes\n",
    "        sourceDF[columna] = sourceDF[columna].fillna(0)\n",
    "        #conversión de todos los valores a integer\n",
    "        sourceDF[columna] = sourceDF[columna].astype(int)\n",
    "    \n",
    "    # Rellenar la distancia de la competencia con el valor de la mediana\n",
    "    sourceDF['CompetitionDistance'].fillna(sourceDF['CompetitionDistance'].median(), inplace = True)\n",
    "    \n",
    "    # Rellenar el mes y año de apertura de la competencia con los valores más frecuentes de las columnas, es decir, las modas de esas columnas\n",
    "    sourceDF['CompetitionOpenSinceMonth'].fillna(sourceDF['CompetitionOpenSinceMonth'].mode()[0], inplace = True)\n",
    "    sourceDF['CompetitionOpenSinceYear'].fillna(sourceDF['CompetitionOpenSinceYear'].mode()[0], inplace = True)\n",
    "\n",
    "    return sourceDF"
   ]
  },
  {
   "cell_type": "code",
   "execution_count": 9,
   "metadata": {
    "ExecuteTime": {
     "end_time": "2024-05-25T10:54:52.945597Z",
     "start_time": "2024-05-25T10:54:52.939426Z"
    },
    "tags": []
   },
   "outputs": [],
   "source": [
    "def initializeResumeData():\n",
    "    return {\n",
    "        \"use_case\":[],\n",
    "        \"window\":[],\n",
    "        \"data_size\":[],\n",
    "        \"algorithm\":[],\n",
    "        \"x_train_size\":[],\n",
    "        \"y_train_size\":[],\n",
    "        \"x_test_size\" : [],\n",
    "        \"y_test_size\": [],\n",
    "        \"mse\":[],\n",
    "        \"mae\":[],\n",
    "        \"r2\":[],\n",
    "        \"time_train\":[],\n",
    "        \"time_test\":[]\n",
    "    }"
   ]
  },
  {
   "cell_type": "markdown",
   "metadata": {},
   "source": [
    "# Creación del CSV Agregado\n",
    "En este punto se hace el join de las 2 CSV's que conforman el DataSet de Datos y eliminamos aquellas columnas que no queremos usar."
   ]
  },
  {
   "cell_type": "code",
   "execution_count": 10,
   "metadata": {
    "ExecuteTime": {
     "end_time": "2024-05-25T19:47:32.194297Z",
     "start_time": "2024-05-25T19:47:31.446931Z"
    },
    "tags": []
   },
   "outputs": [],
   "source": [
    "megaDF = \\\n",
    "    getMegaDF(storeDF, \n",
    "              storeDataDF, \n",
    "              columns_to_drop)"
   ]
  },
  {
   "cell_type": "markdown",
   "metadata": {},
   "source": [
    "# Exploración de los datos"
   ]
  },
  {
   "cell_type": "markdown",
   "metadata": {},
   "source": [
    "## Evaluación de datos nulos \n",
    "\n",
    "A continuación realizamos la evaluación individual de la cantidad de valores nulos existentes en el fichero store.csv "
   ]
  },
  {
   "cell_type": "code",
   "execution_count": 11,
   "metadata": {
    "ExecuteTime": {
     "end_time": "2024-05-25T19:47:35.529870Z",
     "start_time": "2024-05-25T19:47:35.523121Z"
    },
    "tags": []
   },
   "outputs": [
    {
     "data": {
      "text/plain": [
       "Store                          0\n",
       "StoreType                      0\n",
       "Assortment                     0\n",
       "CompetitionDistance            3\n",
       "CompetitionOpenSinceMonth    354\n",
       "CompetitionOpenSinceYear     354\n",
       "Promo2                         0\n",
       "Promo2SinceWeek              544\n",
       "Promo2SinceYear              544\n",
       "PromoInterval                544\n",
       "dtype: int64"
      ]
     },
     "metadata": {},
     "output_type": "display_data"
    }
   ],
   "source": [
    "display(storeDF.isna().sum())"
   ]
  },
  {
   "cell_type": "markdown",
   "metadata": {},
   "source": [
    "A continuación realizamos la evaluación individual de la cantidad de valores nulos existentes en el fichero storeDataDF.csv "
   ]
  },
  {
   "cell_type": "code",
   "execution_count": 12,
   "metadata": {
    "ExecuteTime": {
     "end_time": "2024-05-25T19:47:36.987126Z",
     "start_time": "2024-05-25T19:47:36.923708Z"
    },
    "tags": []
   },
   "outputs": [
    {
     "name": "stdout",
     "output_type": "stream",
     "text": [
      "Store            0\n",
      "DayOfWeek        0\n",
      "Date             0\n",
      "Sales            0\n",
      "Customers        0\n",
      "Open             0\n",
      "Promo            0\n",
      "StateHoliday     0\n",
      "SchoolHoliday    0\n",
      "dtype: int64\n"
     ]
    }
   ],
   "source": [
    "print(storeDataDF.isna().sum())"
   ]
  },
  {
   "cell_type": "markdown",
   "metadata": {},
   "source": [
    "Evaluación especifica de columnas de su total de nulos y no nulos por tipo de tienda y columna"
   ]
  },
  {
   "cell_type": "code",
   "execution_count": 13,
   "metadata": {
    "ExecuteTime": {
     "end_time": "2024-05-25T20:38:25.290735Z",
     "start_time": "2024-05-25T20:38:22.449997Z"
    },
    "tags": []
   },
   "outputs": [
    {
     "data": {
      "text/html": [
       "<b>Columnas con valores nulos vs no nulos para el tipo de tienda: a</b>"
      ],
      "text/plain": [
       "<IPython.core.display.HTML object>"
      ]
     },
     "metadata": {},
     "output_type": "display_data"
    },
    {
     "data": {
      "text/html": [
       "<div>\n",
       "<style scoped>\n",
       "    .dataframe tbody tr th:only-of-type {\n",
       "        vertical-align: middle;\n",
       "    }\n",
       "\n",
       "    .dataframe tbody tr th {\n",
       "        vertical-align: top;\n",
       "    }\n",
       "\n",
       "    .dataframe thead th {\n",
       "        text-align: right;\n",
       "    }\n",
       "</style>\n",
       "<table border=\"1\" class=\"dataframe\">\n",
       "  <thead>\n",
       "    <tr style=\"text-align: right;\">\n",
       "      <th></th>\n",
       "      <th>Columnas</th>\n",
       "      <th>Total_Null</th>\n",
       "      <th>Total_not_null</th>\n",
       "    </tr>\n",
       "  </thead>\n",
       "  <tbody>\n",
       "    <tr>\n",
       "      <th>0</th>\n",
       "      <td>CompetitionDistance</td>\n",
       "      <td>942</td>\n",
       "      <td>0</td>\n",
       "    </tr>\n",
       "    <tr>\n",
       "      <th>1</th>\n",
       "      <td>CompetitionOpenSinceMonth</td>\n",
       "      <td>161560</td>\n",
       "      <td>0</td>\n",
       "    </tr>\n",
       "    <tr>\n",
       "      <th>2</th>\n",
       "      <td>CompetitionOpenSinceYear</td>\n",
       "      <td>161560</td>\n",
       "      <td>0</td>\n",
       "    </tr>\n",
       "    <tr>\n",
       "      <th>3</th>\n",
       "      <td>Promo2SinceWeek</td>\n",
       "      <td>293741</td>\n",
       "      <td>0</td>\n",
       "    </tr>\n",
       "    <tr>\n",
       "      <th>4</th>\n",
       "      <td>Promo2SinceYear</td>\n",
       "      <td>293741</td>\n",
       "      <td>0</td>\n",
       "    </tr>\n",
       "    <tr>\n",
       "      <th>5</th>\n",
       "      <td>PromoInterval</td>\n",
       "      <td>293741</td>\n",
       "      <td>0</td>\n",
       "    </tr>\n",
       "  </tbody>\n",
       "</table>\n",
       "</div>"
      ],
      "text/plain": [
       "                    Columnas  Total_Null  Total_not_null\n",
       "0        CompetitionDistance         942               0\n",
       "1  CompetitionOpenSinceMonth      161560               0\n",
       "2   CompetitionOpenSinceYear      161560               0\n",
       "3            Promo2SinceWeek      293741               0\n",
       "4            Promo2SinceYear      293741               0\n",
       "5              PromoInterval      293741               0"
      ]
     },
     "metadata": {},
     "output_type": "display_data"
    },
    {
     "data": {
      "text/html": [
       "<b>Columnas con valores nulos vs no nulos para el tipo de tienda: b</b>"
      ],
      "text/plain": [
       "<IPython.core.display.HTML object>"
      ]
     },
     "metadata": {},
     "output_type": "display_data"
    },
    {
     "data": {
      "text/html": [
       "<div>\n",
       "<style scoped>\n",
       "    .dataframe tbody tr th:only-of-type {\n",
       "        vertical-align: middle;\n",
       "    }\n",
       "\n",
       "    .dataframe tbody tr th {\n",
       "        vertical-align: top;\n",
       "    }\n",
       "\n",
       "    .dataframe thead th {\n",
       "        text-align: right;\n",
       "    }\n",
       "</style>\n",
       "<table border=\"1\" class=\"dataframe\">\n",
       "  <thead>\n",
       "    <tr style=\"text-align: right;\">\n",
       "      <th></th>\n",
       "      <th>Columnas</th>\n",
       "      <th>Total_Null</th>\n",
       "      <th>Total_not_null</th>\n",
       "    </tr>\n",
       "  </thead>\n",
       "  <tbody>\n",
       "    <tr>\n",
       "      <th>0</th>\n",
       "      <td>CompetitionOpenSinceMonth</td>\n",
       "      <td>7352</td>\n",
       "      <td>0</td>\n",
       "    </tr>\n",
       "    <tr>\n",
       "      <th>1</th>\n",
       "      <td>CompetitionOpenSinceYear</td>\n",
       "      <td>7352</td>\n",
       "      <td>0</td>\n",
       "    </tr>\n",
       "    <tr>\n",
       "      <th>2</th>\n",
       "      <td>Promo2SinceWeek</td>\n",
       "      <td>11304</td>\n",
       "      <td>0</td>\n",
       "    </tr>\n",
       "    <tr>\n",
       "      <th>3</th>\n",
       "      <td>Promo2SinceYear</td>\n",
       "      <td>11304</td>\n",
       "      <td>0</td>\n",
       "    </tr>\n",
       "    <tr>\n",
       "      <th>4</th>\n",
       "      <td>PromoInterval</td>\n",
       "      <td>11304</td>\n",
       "      <td>0</td>\n",
       "    </tr>\n",
       "  </tbody>\n",
       "</table>\n",
       "</div>"
      ],
      "text/plain": [
       "                    Columnas  Total_Null  Total_not_null\n",
       "0  CompetitionOpenSinceMonth        7352               0\n",
       "1   CompetitionOpenSinceYear        7352               0\n",
       "2            Promo2SinceWeek       11304               0\n",
       "3            Promo2SinceYear       11304               0\n",
       "4              PromoInterval       11304               0"
      ]
     },
     "metadata": {},
     "output_type": "display_data"
    },
    {
     "data": {
      "text/html": [
       "<b>Columnas con valores nulos vs no nulos para el tipo de tienda: c</b>"
      ],
      "text/plain": [
       "<IPython.core.display.HTML object>"
      ]
     },
     "metadata": {},
     "output_type": "display_data"
    },
    {
     "data": {
      "text/html": [
       "<div>\n",
       "<style scoped>\n",
       "    .dataframe tbody tr th:only-of-type {\n",
       "        vertical-align: middle;\n",
       "    }\n",
       "\n",
       "    .dataframe tbody tr th {\n",
       "        vertical-align: top;\n",
       "    }\n",
       "\n",
       "    .dataframe thead th {\n",
       "        text-align: right;\n",
       "    }\n",
       "</style>\n",
       "<table border=\"1\" class=\"dataframe\">\n",
       "  <thead>\n",
       "    <tr style=\"text-align: right;\">\n",
       "      <th></th>\n",
       "      <th>Columnas</th>\n",
       "      <th>Total_Null</th>\n",
       "      <th>Total_not_null</th>\n",
       "    </tr>\n",
       "  </thead>\n",
       "  <tbody>\n",
       "    <tr>\n",
       "      <th>0</th>\n",
       "      <td>CompetitionOpenSinceMonth</td>\n",
       "      <td>37886</td>\n",
       "      <td>0</td>\n",
       "    </tr>\n",
       "    <tr>\n",
       "      <th>1</th>\n",
       "      <td>CompetitionOpenSinceYear</td>\n",
       "      <td>37886</td>\n",
       "      <td>0</td>\n",
       "    </tr>\n",
       "    <tr>\n",
       "      <th>2</th>\n",
       "      <td>Promo2SinceWeek</td>\n",
       "      <td>68582</td>\n",
       "      <td>0</td>\n",
       "    </tr>\n",
       "    <tr>\n",
       "      <th>3</th>\n",
       "      <td>Promo2SinceYear</td>\n",
       "      <td>68582</td>\n",
       "      <td>0</td>\n",
       "    </tr>\n",
       "    <tr>\n",
       "      <th>4</th>\n",
       "      <td>PromoInterval</td>\n",
       "      <td>68582</td>\n",
       "      <td>0</td>\n",
       "    </tr>\n",
       "  </tbody>\n",
       "</table>\n",
       "</div>"
      ],
      "text/plain": [
       "                    Columnas  Total_Null  Total_not_null\n",
       "0  CompetitionOpenSinceMonth       37886               0\n",
       "1   CompetitionOpenSinceYear       37886               0\n",
       "2            Promo2SinceWeek       68582               0\n",
       "3            Promo2SinceYear       68582               0\n",
       "4              PromoInterval       68582               0"
      ]
     },
     "metadata": {},
     "output_type": "display_data"
    },
    {
     "data": {
      "text/html": [
       "<b>Columnas con valores nulos vs no nulos para el tipo de tienda: d</b>"
      ],
      "text/plain": [
       "<IPython.core.display.HTML object>"
      ]
     },
     "metadata": {},
     "output_type": "display_data"
    },
    {
     "data": {
      "text/html": [
       "<div>\n",
       "<style scoped>\n",
       "    .dataframe tbody tr th:only-of-type {\n",
       "        vertical-align: middle;\n",
       "    }\n",
       "\n",
       "    .dataframe tbody tr th {\n",
       "        vertical-align: top;\n",
       "    }\n",
       "\n",
       "    .dataframe thead th {\n",
       "        text-align: right;\n",
       "    }\n",
       "</style>\n",
       "<table border=\"1\" class=\"dataframe\">\n",
       "  <thead>\n",
       "    <tr style=\"text-align: right;\">\n",
       "      <th></th>\n",
       "      <th>Columnas</th>\n",
       "      <th>Total_Null</th>\n",
       "      <th>Total_not_null</th>\n",
       "    </tr>\n",
       "  </thead>\n",
       "  <tbody>\n",
       "    <tr>\n",
       "      <th>0</th>\n",
       "      <td>CompetitionDistance</td>\n",
       "      <td>1700</td>\n",
       "      <td>0</td>\n",
       "    </tr>\n",
       "    <tr>\n",
       "      <th>1</th>\n",
       "      <td>CompetitionOpenSinceMonth</td>\n",
       "      <td>116550</td>\n",
       "      <td>0</td>\n",
       "    </tr>\n",
       "    <tr>\n",
       "      <th>2</th>\n",
       "      <td>CompetitionOpenSinceYear</td>\n",
       "      <td>116550</td>\n",
       "      <td>0</td>\n",
       "    </tr>\n",
       "    <tr>\n",
       "      <th>3</th>\n",
       "      <td>Promo2SinceWeek</td>\n",
       "      <td>134404</td>\n",
       "      <td>0</td>\n",
       "    </tr>\n",
       "    <tr>\n",
       "      <th>4</th>\n",
       "      <td>Promo2SinceYear</td>\n",
       "      <td>134404</td>\n",
       "      <td>0</td>\n",
       "    </tr>\n",
       "    <tr>\n",
       "      <th>5</th>\n",
       "      <td>PromoInterval</td>\n",
       "      <td>134404</td>\n",
       "      <td>0</td>\n",
       "    </tr>\n",
       "  </tbody>\n",
       "</table>\n",
       "</div>"
      ],
      "text/plain": [
       "                    Columnas  Total_Null  Total_not_null\n",
       "0        CompetitionDistance        1700               0\n",
       "1  CompetitionOpenSinceMonth      116550               0\n",
       "2   CompetitionOpenSinceYear      116550               0\n",
       "3            Promo2SinceWeek      134404               0\n",
       "4            Promo2SinceYear      134404               0\n",
       "5              PromoInterval      134404               0"
      ]
     },
     "metadata": {},
     "output_type": "display_data"
    }
   ],
   "source": [
    "# Agrupar por la columna 'Grupo' y verificar si hay nulos en cada grupo\n",
    "grupos_con_nulos = megaDF.groupby('StoreType').apply(lambda x: x.isna().any().any())\n",
    "# Filtrar los grupos que tienen valores nulos\n",
    "grupos_con_nulos = grupos_con_nulos[grupos_con_nulos]\n",
    "# Obtener los nombres de los grupos que tienen valores nulos\n",
    "nombres_grupos_con_nulos = grupos_con_nulos.index\n",
    "# Filtrar el DataFrame original para obtener solo los grupos con nulos\n",
    "df_grupos_con_nulos = megaDF[megaDF['StoreType'].isin(nombres_grupos_con_nulos)]\n",
    "#Tras la búsqueda de los datos, inicia evaluación individual\n",
    "for storeType in ['a','b','c','d']:    \n",
    "    #Hace la búsqueda de los datos por el tipo de tienda\n",
    "    grupos_con_nulos = df_grupos_con_nulos[df_grupos_con_nulos.StoreType == storeType].isna().sum()\n",
    "    #Reseteo de los datos para recuperar solo las columnas\n",
    "    grupos_con_nulos = grupos_con_nulos.to_frame().reset_index()\n",
    "    #Rename de la columna 0 a Total_Null\n",
    "    grupos_con_nulos = grupos_con_nulos.rename(columns={0: \"Total_Null\"})   \n",
    "    #Rename de la columna index a Columna\n",
    "    grupos_con_nulos = grupos_con_nulos.rename(columns={'index': \"Columnas\"})\n",
    "    #Extracción de los datos solo para aquellos con algún valor null\n",
    "    grupos_con_nulos = grupos_con_nulos[grupos_con_nulos.Total_Null > 0]\n",
    "    display(HTML(f'<b>Columnas con valores nulos vs no nulos para el tipo de tienda: {storeType}</b>'))\n",
    "    # display(grupos_con_nulos)\n",
    "    string_list_columna = [str(element) for element in grupos_con_nulos['Columnas'].tolist()]\n",
    "    #contamos la cantidad de datos en la misma columna y no tiene nulos\n",
    "    lst_no_nulos = []\n",
    "    for columna in string_list_columna:\n",
    "        #Hace la búsqueda de los datos por el tipo de tienda\n",
    "        count_columna_con_no_nulos = megaDF[~megaDF[columna].isna() & megaDF.StoreType == storeType][columna].count()\n",
    "        lst_no_nulos.append([columna, count_columna_con_no_nulos])\n",
    "    #creamos el df de los totales sin nulos por tipo de columna\n",
    "    grupos_not_null = pd.DataFrame(lst_no_nulos, columns=['Columnas', 'Total_not_null'])  \n",
    "    #finalmente la unión de los dos df para obtener el total de nulos y no nulos\n",
    "    result = grupos_con_nulos.merge(grupos_not_null, on=[\"Columnas\"])\n",
    "    display(result)"
   ]
  },
  {
   "cell_type": "markdown",
   "metadata": {},
   "source": [
    "Evaluación conjunta de todos nulos"
   ]
  },
  {
   "cell_type": "code",
   "execution_count": 14,
   "metadata": {
    "ExecuteTime": {
     "end_time": "2024-05-25T19:47:46.772623Z",
     "start_time": "2024-05-25T19:47:46.667957Z"
    },
    "tags": []
   },
   "outputs": [
    {
     "name": "stdout",
     "output_type": "stream",
     "text": [
      "Store                             0\n",
      "StoreType                         0\n",
      "Assortment                        0\n",
      "CompetitionDistance            2642\n",
      "CompetitionOpenSinceMonth    323348\n",
      "CompetitionOpenSinceYear     323348\n",
      "Promo2                            0\n",
      "Promo2SinceWeek              508031\n",
      "Promo2SinceYear              508031\n",
      "PromoInterval                508031\n",
      "DayOfWeek                         0\n",
      "Date                              0\n",
      "Sales                             0\n",
      "Customers                         0\n",
      "Open                              0\n",
      "Promo                             0\n",
      "StateHoliday                      0\n",
      "SchoolHoliday                     0\n",
      "dtype: int64\n"
     ]
    }
   ],
   "source": [
    "print(megaDF.isna().sum())"
   ]
  },
  {
   "cell_type": "markdown",
   "metadata": {},
   "source": [
    "## Tipos de tiendas\n",
    "A continuación los tipos de tiendas."
   ]
  },
  {
   "cell_type": "code",
   "execution_count": 15,
   "metadata": {
    "ExecuteTime": {
     "end_time": "2024-05-25T19:47:49.478336Z",
     "start_time": "2024-05-25T19:47:49.473300Z"
    },
    "tags": []
   },
   "outputs": [
    {
     "data": {
      "text/plain": [
       "array(['c', 'a', 'd', 'b'], dtype=object)"
      ]
     },
     "metadata": {},
     "output_type": "display_data"
    }
   ],
   "source": [
    "display(storeDF['StoreType'].unique())"
   ]
  },
  {
   "cell_type": "markdown",
   "metadata": {},
   "source": [
    "Total datos por tipo de tiendas"
   ]
  },
  {
   "cell_type": "markdown",
   "metadata": {},
   "source": [
    "## Exploración de las ventas por tipo de tienda"
   ]
  },
  {
   "cell_type": "markdown",
   "metadata": {},
   "source": [
    "Observación de la distribucción de las ventas por tipo de tienda"
   ]
  },
  {
   "cell_type": "code",
   "execution_count": 16,
   "metadata": {
    "ExecuteTime": {
     "end_time": "2024-05-25T10:22:45.643289Z",
     "start_time": "2024-05-25T10:22:45.621258Z"
    },
    "tags": []
   },
   "outputs": [
    {
     "data": {
      "text/html": [
       "<div>\n",
       "<style scoped>\n",
       "    .dataframe tbody tr th:only-of-type {\n",
       "        vertical-align: middle;\n",
       "    }\n",
       "\n",
       "    .dataframe tbody tr th {\n",
       "        vertical-align: top;\n",
       "    }\n",
       "\n",
       "    .dataframe thead th {\n",
       "        text-align: right;\n",
       "    }\n",
       "</style>\n",
       "<table border=\"1\" class=\"dataframe\">\n",
       "  <thead>\n",
       "    <tr style=\"text-align: right;\">\n",
       "      <th></th>\n",
       "      <th>sum</th>\n",
       "    </tr>\n",
       "    <tr>\n",
       "      <th>StoreType</th>\n",
       "      <th></th>\n",
       "    </tr>\n",
       "  </thead>\n",
       "  <tbody>\n",
       "    <tr>\n",
       "      <th>a</th>\n",
       "      <td>3165334859</td>\n",
       "    </tr>\n",
       "    <tr>\n",
       "      <th>b</th>\n",
       "      <td>159231395</td>\n",
       "    </tr>\n",
       "    <tr>\n",
       "      <th>c</th>\n",
       "      <td>783221426</td>\n",
       "    </tr>\n",
       "    <tr>\n",
       "      <th>d</th>\n",
       "      <td>1765392943</td>\n",
       "    </tr>\n",
       "  </tbody>\n",
       "</table>\n",
       "</div>"
      ],
      "text/plain": [
       "                  sum\n",
       "StoreType            \n",
       "a          3165334859\n",
       "b           159231395\n",
       "c           783221426\n",
       "d          1765392943"
      ]
     },
     "execution_count": 16,
     "metadata": {},
     "output_type": "execute_result"
    }
   ],
   "source": [
    "megaDF.groupby(['StoreType'])['Sales'].agg(['sum'])"
   ]
  },
  {
   "cell_type": "markdown",
   "metadata": {},
   "source": [
    "Además realizamos la evaluación de la representación en porcentaje de influencia del total de datos en las ventas por tienda"
   ]
  },
  {
   "cell_type": "code",
   "execution_count": 17,
   "metadata": {
    "ExecuteTime": {
     "end_time": "2024-05-25T09:10:44.920525Z",
     "start_time": "2024-05-25T09:10:44.867917Z"
    },
    "tags": []
   },
   "outputs": [
    {
     "data": {
      "text/html": [
       "<div>\n",
       "<style scoped>\n",
       "    .dataframe tbody tr th:only-of-type {\n",
       "        vertical-align: middle;\n",
       "    }\n",
       "\n",
       "    .dataframe tbody tr th {\n",
       "        vertical-align: top;\n",
       "    }\n",
       "\n",
       "    .dataframe thead th {\n",
       "        text-align: right;\n",
       "    }\n",
       "</style>\n",
       "<table border=\"1\" class=\"dataframe\">\n",
       "  <thead>\n",
       "    <tr style=\"text-align: right;\">\n",
       "      <th></th>\n",
       "      <th>StoreType</th>\n",
       "    </tr>\n",
       "  </thead>\n",
       "  <tbody>\n",
       "    <tr>\n",
       "      <th>a</th>\n",
       "      <td>54.229465</td>\n",
       "    </tr>\n",
       "    <tr>\n",
       "      <th>d</th>\n",
       "      <td>30.761820</td>\n",
       "    </tr>\n",
       "    <tr>\n",
       "      <th>c</th>\n",
       "      <td>13.452496</td>\n",
       "    </tr>\n",
       "    <tr>\n",
       "      <th>b</th>\n",
       "      <td>1.556219</td>\n",
       "    </tr>\n",
       "  </tbody>\n",
       "</table>\n",
       "</div>"
      ],
      "text/plain": [
       "   StoreType\n",
       "a  54.229465\n",
       "d  30.761820\n",
       "c  13.452496\n",
       "b   1.556219"
      ]
     },
     "execution_count": 17,
     "metadata": {},
     "output_type": "execute_result"
    }
   ],
   "source": [
    "data = ((megaDF['StoreType'].value_counts()/megaDF['StoreType'].count())*100).to_frame()\n",
    "data = data.rename(columns={'count': \"Percentaje\"})\n",
    "data"
   ]
  },
  {
   "cell_type": "markdown",
   "metadata": {},
   "source": [
    "## Evaluación de ventas por temporalidad"
   ]
  },
  {
   "cell_type": "markdown",
   "metadata": {},
   "source": [
    "Visualización conjunta de las ventas por día de las semana"
   ]
  },
  {
   "cell_type": "code",
   "execution_count": 18,
   "metadata": {
    "ExecuteTime": {
     "end_time": "2024-05-25T19:48:00.291197Z",
     "start_time": "2024-05-25T19:47:57.968409Z"
    },
    "tags": []
   },
   "outputs": [
    {
     "data": {
      "text/html": [
       "<div>\n",
       "<style scoped>\n",
       "    .dataframe tbody tr th:only-of-type {\n",
       "        vertical-align: middle;\n",
       "    }\n",
       "\n",
       "    .dataframe tbody tr th {\n",
       "        vertical-align: top;\n",
       "    }\n",
       "\n",
       "    .dataframe thead th {\n",
       "        text-align: right;\n",
       "    }\n",
       "</style>\n",
       "<table border=\"1\" class=\"dataframe\">\n",
       "  <thead>\n",
       "    <tr style=\"text-align: right;\">\n",
       "      <th></th>\n",
       "      <th>Total sale</th>\n",
       "    </tr>\n",
       "    <tr>\n",
       "      <th>Day</th>\n",
       "      <th></th>\n",
       "    </tr>\n",
       "  </thead>\n",
       "  <tbody>\n",
       "    <tr>\n",
       "      <th>1</th>\n",
       "      <td>1130203012</td>\n",
       "    </tr>\n",
       "    <tr>\n",
       "      <th>2</th>\n",
       "      <td>1020411930</td>\n",
       "    </tr>\n",
       "    <tr>\n",
       "      <th>3</th>\n",
       "      <td>954962863</td>\n",
       "    </tr>\n",
       "    <tr>\n",
       "      <th>4</th>\n",
       "      <td>911177709</td>\n",
       "    </tr>\n",
       "    <tr>\n",
       "      <th>5</th>\n",
       "      <td>980555941</td>\n",
       "    </tr>\n",
       "    <tr>\n",
       "      <th>6</th>\n",
       "      <td>846317735</td>\n",
       "    </tr>\n",
       "    <tr>\n",
       "      <th>7</th>\n",
       "      <td>29551433</td>\n",
       "    </tr>\n",
       "  </tbody>\n",
       "</table>\n",
       "</div>"
      ],
      "text/plain": [
       "     Total sale\n",
       "Day            \n",
       "1    1130203012\n",
       "2    1020411930\n",
       "3     954962863\n",
       "4     911177709\n",
       "5     980555941\n",
       "6     846317735\n",
       "7      29551433"
      ]
     },
     "metadata": {},
     "output_type": "display_data"
    }
   ],
   "source": [
    "megaDFDay = megaDF[['Date','StoreType','Sales']]\n",
    "megaDFDay['Day'] = megaDFDay['Date'].apply(lambda time: time.weekday() + 1)\n",
    "data = megaDFDay.groupby(['Day'])['Sales'].agg(['sum']).stack().reset_index()\n",
    "data = data.drop('level_1', axis=1)\n",
    "data.index = data['Day']\n",
    "data = data.drop('Day', axis=1)\n",
    "data = data.rename(columns={0: \"Total sale\"})\n",
    "display(data)"
   ]
  },
  {
   "cell_type": "markdown",
   "metadata": {},
   "source": [
    "Visualización de ventas por cuatrimestre"
   ]
  },
  {
   "cell_type": "code",
   "execution_count": 19,
   "metadata": {
    "ExecuteTime": {
     "end_time": "2024-05-25T19:48:11.354244Z",
     "start_time": "2024-05-25T19:48:09.819067Z"
    },
    "tags": []
   },
   "outputs": [
    {
     "data": {
      "text/html": [
       "<div>\n",
       "<style scoped>\n",
       "    .dataframe tbody tr th:only-of-type {\n",
       "        vertical-align: middle;\n",
       "    }\n",
       "\n",
       "    .dataframe tbody tr th {\n",
       "        vertical-align: top;\n",
       "    }\n",
       "\n",
       "    .dataframe thead th {\n",
       "        text-align: right;\n",
       "    }\n",
       "</style>\n",
       "<table border=\"1\" class=\"dataframe\">\n",
       "  <thead>\n",
       "    <tr style=\"text-align: right;\">\n",
       "      <th></th>\n",
       "      <th>Quarter</th>\n",
       "      <th>StoreType</th>\n",
       "      <th>Total_sale</th>\n",
       "    </tr>\n",
       "  </thead>\n",
       "  <tbody>\n",
       "    <tr>\n",
       "      <th>0</th>\n",
       "      <td>1</td>\n",
       "      <td>a</td>\n",
       "      <td>910985204</td>\n",
       "    </tr>\n",
       "    <tr>\n",
       "      <th>1</th>\n",
       "      <td>1</td>\n",
       "      <td>b</td>\n",
       "      <td>43647817</td>\n",
       "    </tr>\n",
       "    <tr>\n",
       "      <th>2</th>\n",
       "      <td>1</td>\n",
       "      <td>c</td>\n",
       "      <td>223018787</td>\n",
       "    </tr>\n",
       "    <tr>\n",
       "      <th>3</th>\n",
       "      <td>1</td>\n",
       "      <td>d</td>\n",
       "      <td>517643232</td>\n",
       "    </tr>\n",
       "    <tr>\n",
       "      <th>4</th>\n",
       "      <td>2</td>\n",
       "      <td>a</td>\n",
       "      <td>923300815</td>\n",
       "    </tr>\n",
       "    <tr>\n",
       "      <th>5</th>\n",
       "      <td>2</td>\n",
       "      <td>b</td>\n",
       "      <td>47830906</td>\n",
       "    </tr>\n",
       "    <tr>\n",
       "      <th>6</th>\n",
       "      <td>2</td>\n",
       "      <td>c</td>\n",
       "      <td>225059826</td>\n",
       "    </tr>\n",
       "    <tr>\n",
       "      <th>7</th>\n",
       "      <td>2</td>\n",
       "      <td>d</td>\n",
       "      <td>527064740</td>\n",
       "    </tr>\n",
       "    <tr>\n",
       "      <th>8</th>\n",
       "      <td>3</td>\n",
       "      <td>a</td>\n",
       "      <td>705863011</td>\n",
       "    </tr>\n",
       "    <tr>\n",
       "      <th>9</th>\n",
       "      <td>3</td>\n",
       "      <td>b</td>\n",
       "      <td>35146522</td>\n",
       "    </tr>\n",
       "    <tr>\n",
       "      <th>10</th>\n",
       "      <td>3</td>\n",
       "      <td>c</td>\n",
       "      <td>174542899</td>\n",
       "    </tr>\n",
       "    <tr>\n",
       "      <th>11</th>\n",
       "      <td>3</td>\n",
       "      <td>d</td>\n",
       "      <td>383868106</td>\n",
       "    </tr>\n",
       "    <tr>\n",
       "      <th>12</th>\n",
       "      <td>4</td>\n",
       "      <td>a</td>\n",
       "      <td>625185829</td>\n",
       "    </tr>\n",
       "    <tr>\n",
       "      <th>13</th>\n",
       "      <td>4</td>\n",
       "      <td>b</td>\n",
       "      <td>32606150</td>\n",
       "    </tr>\n",
       "    <tr>\n",
       "      <th>14</th>\n",
       "      <td>4</td>\n",
       "      <td>c</td>\n",
       "      <td>160599914</td>\n",
       "    </tr>\n",
       "    <tr>\n",
       "      <th>15</th>\n",
       "      <td>4</td>\n",
       "      <td>d</td>\n",
       "      <td>336816865</td>\n",
       "    </tr>\n",
       "  </tbody>\n",
       "</table>\n",
       "</div>"
      ],
      "text/plain": [
       "    Quarter StoreType  Total_sale\n",
       "0         1         a   910985204\n",
       "1         1         b    43647817\n",
       "2         1         c   223018787\n",
       "3         1         d   517643232\n",
       "4         2         a   923300815\n",
       "5         2         b    47830906\n",
       "6         2         c   225059826\n",
       "7         2         d   527064740\n",
       "8         3         a   705863011\n",
       "9         3         b    35146522\n",
       "10        3         c   174542899\n",
       "11        3         d   383868106\n",
       "12        4         a   625185829\n",
       "13        4         b    32606150\n",
       "14        4         c   160599914\n",
       "15        4         d   336816865"
      ]
     },
     "execution_count": 19,
     "metadata": {},
     "output_type": "execute_result"
    }
   ],
   "source": [
    "megaDFDay = megaDF[['Date','StoreType','Sales']]\n",
    "megaDFDay['Quarter'] = megaDFDay['Date'].apply(lambda time: time.quarter)\n",
    "data = megaDFDay.groupby(['Quarter','StoreType'])['Sales'].agg(['sum']).stack().reset_index()\n",
    "data = data.drop('level_2', axis=1)\n",
    "data = data.rename(columns={0: \"Total_sale\"})\n",
    "data"
   ]
  },
  {
   "cell_type": "markdown",
   "metadata": {},
   "source": [
    "## Información del tipo de las columnas"
   ]
  },
  {
   "cell_type": "code",
   "execution_count": 20,
   "metadata": {
    "ExecuteTime": {
     "end_time": "2024-05-25T20:53:40.531476Z",
     "start_time": "2024-05-25T20:53:40.271633Z"
    },
    "tags": []
   },
   "outputs": [
    {
     "name": "stdout",
     "output_type": "stream",
     "text": [
      "<class 'pandas.core.frame.DataFrame'>\n",
      "Int64Index: 1017209 entries, 0 to 1017208\n",
      "Data columns (total 18 columns):\n",
      " #   Column                     Non-Null Count    Dtype         \n",
      "---  ------                     --------------    -----         \n",
      " 0   Store                      1017209 non-null  int64         \n",
      " 1   StoreType                  1017209 non-null  object        \n",
      " 2   Assortment                 1017209 non-null  object        \n",
      " 3   CompetitionDistance        1014567 non-null  float64       \n",
      " 4   CompetitionOpenSinceMonth  693861 non-null   float64       \n",
      " 5   CompetitionOpenSinceYear   693861 non-null   float64       \n",
      " 6   Promo2                     1017209 non-null  int64         \n",
      " 7   Promo2SinceWeek            509178 non-null   float64       \n",
      " 8   Promo2SinceYear            509178 non-null   float64       \n",
      " 9   PromoInterval              509178 non-null   object        \n",
      " 10  DayOfWeek                  1017209 non-null  int64         \n",
      " 11  Date                       1017209 non-null  datetime64[ns]\n",
      " 12  Sales                      1017209 non-null  int64         \n",
      " 13  Customers                  1017209 non-null  int64         \n",
      " 14  Open                       1017209 non-null  int64         \n",
      " 15  Promo                      1017209 non-null  int64         \n",
      " 16  StateHoliday               1017209 non-null  object        \n",
      " 17  SchoolHoliday              1017209 non-null  int64         \n",
      "dtypes: datetime64[ns](1), float64(5), int64(8), object(4)\n",
      "memory usage: 147.5+ MB\n"
     ]
    }
   ],
   "source": [
    "megaDF.info()"
   ]
  },
  {
   "cell_type": "markdown",
   "metadata": {},
   "source": [
    "# Evaluador Masivo de Modelos de Predicción"
   ]
  },
  {
   "cell_type": "markdown",
   "metadata": {},
   "source": [
    "## Enriquecimiento del DataSet\n",
    "A partir del CSV Agregado en el paso anterior, en este punto y a través de la función enrichDF() se limpia y enriquecen las columnas del CSV convirtiendo las variables categóricas a variables numéricas que puedan ser interpretadas por los algoritmos de Machine Learning."
   ]
  },
  {
   "cell_type": "code",
   "execution_count": 21,
   "metadata": {
    "ExecuteTime": {
     "end_time": "2024-05-25T21:39:03.906326Z",
     "start_time": "2024-05-25T21:38:57.292754Z"
    },
    "tags": []
   },
   "outputs": [],
   "source": [
    "enrichedMegaDF = \\\n",
    "    enrichDF(megaDF)"
   ]
  },
  {
   "cell_type": "markdown",
   "metadata": {},
   "source": [
    "### Evaluación de datos nulos \n",
    "Tras la conversión de los datos hacemos una última evalución de la cantidad de valores nulos."
   ]
  },
  {
   "cell_type": "code",
   "execution_count": 22,
   "metadata": {
    "ExecuteTime": {
     "end_time": "2024-05-25T21:39:05.115015Z",
     "start_time": "2024-05-25T21:39:05.082674Z"
    },
    "tags": []
   },
   "outputs": [
    {
     "name": "stdout",
     "output_type": "stream",
     "text": [
      "Store                        0\n",
      "StoreType                    0\n",
      "Assortment                   0\n",
      "CompetitionDistance          0\n",
      "CompetitionOpenSinceMonth    0\n",
      "CompetitionOpenSinceYear     0\n",
      "Promo2                       0\n",
      "Promo2SinceWeek              0\n",
      "Promo2SinceYear              0\n",
      "DayOfWeek                    0\n",
      "Date                         0\n",
      "Sales                        0\n",
      "Customers                    0\n",
      "Open                         0\n",
      "Promo                        0\n",
      "StateHoliday                 0\n",
      "SchoolHoliday                0\n",
      "SalesDay                     0\n",
      "SalesMonth                   0\n",
      "SalesYear                    0\n",
      "PromoIntervalMonth1          0\n",
      "PromoIntervalMonth2          0\n",
      "PromoIntervalMonth3          0\n",
      "PromoIntervalMonth4          0\n",
      "dtype: int64\n"
     ]
    }
   ],
   "source": [
    "print(enrichedMegaDF.isna().sum())"
   ]
  },
  {
   "cell_type": "markdown",
   "metadata": {},
   "source": [
    "### Total datos para el entrenamiento"
   ]
  },
  {
   "cell_type": "code",
   "execution_count": 23,
   "metadata": {
    "ExecuteTime": {
     "end_time": "2024-05-25T21:42:26.685707Z",
     "start_time": "2024-05-25T21:42:26.680593Z"
    },
    "tags": []
   },
   "outputs": [
    {
     "data": {
      "text/plain": [
       "1017209"
      ]
     },
     "execution_count": 23,
     "metadata": {},
     "output_type": "execute_result"
    }
   ],
   "source": [
    "len(enrichedMegaDF)"
   ]
  },
  {
   "cell_type": "markdown",
   "metadata": {},
   "source": [
    "## Pipelines de Preprocesamiento\n",
    "### Normalización de datos y PCA\n",
    "En esta sección se configuran los step's de los pipeline's que se encargarán de normalizar los datos y de realizar PCA sobre los datos."
   ]
  },
  {
   "cell_type": "code",
   "execution_count": 24,
   "metadata": {
    "ExecuteTime": {
     "end_time": "2024-05-25T21:49:08.097080Z",
     "start_time": "2024-05-25T21:49:08.063718Z"
    },
    "tags": []
   },
   "outputs": [
    {
     "data": {
      "text/html": [
       "<style>#sk-container-id-1 {color: black;}#sk-container-id-1 pre{padding: 0;}#sk-container-id-1 div.sk-toggleable {background-color: white;}#sk-container-id-1 label.sk-toggleable__label {cursor: pointer;display: block;width: 100%;margin-bottom: 0;padding: 0.3em;box-sizing: border-box;text-align: center;}#sk-container-id-1 label.sk-toggleable__label-arrow:before {content: \"▸\";float: left;margin-right: 0.25em;color: #696969;}#sk-container-id-1 label.sk-toggleable__label-arrow:hover:before {color: black;}#sk-container-id-1 div.sk-estimator:hover label.sk-toggleable__label-arrow:before {color: black;}#sk-container-id-1 div.sk-toggleable__content {max-height: 0;max-width: 0;overflow: hidden;text-align: left;background-color: #f0f8ff;}#sk-container-id-1 div.sk-toggleable__content pre {margin: 0.2em;color: black;border-radius: 0.25em;background-color: #f0f8ff;}#sk-container-id-1 input.sk-toggleable__control:checked~div.sk-toggleable__content {max-height: 200px;max-width: 100%;overflow: auto;}#sk-container-id-1 input.sk-toggleable__control:checked~label.sk-toggleable__label-arrow:before {content: \"▾\";}#sk-container-id-1 div.sk-estimator input.sk-toggleable__control:checked~label.sk-toggleable__label {background-color: #d4ebff;}#sk-container-id-1 div.sk-label input.sk-toggleable__control:checked~label.sk-toggleable__label {background-color: #d4ebff;}#sk-container-id-1 input.sk-hidden--visually {border: 0;clip: rect(1px 1px 1px 1px);clip: rect(1px, 1px, 1px, 1px);height: 1px;margin: -1px;overflow: hidden;padding: 0;position: absolute;width: 1px;}#sk-container-id-1 div.sk-estimator {font-family: monospace;background-color: #f0f8ff;border: 1px dotted black;border-radius: 0.25em;box-sizing: border-box;margin-bottom: 0.5em;}#sk-container-id-1 div.sk-estimator:hover {background-color: #d4ebff;}#sk-container-id-1 div.sk-parallel-item::after {content: \"\";width: 100%;border-bottom: 1px solid gray;flex-grow: 1;}#sk-container-id-1 div.sk-label:hover label.sk-toggleable__label {background-color: #d4ebff;}#sk-container-id-1 div.sk-serial::before {content: \"\";position: absolute;border-left: 1px solid gray;box-sizing: border-box;top: 0;bottom: 0;left: 50%;z-index: 0;}#sk-container-id-1 div.sk-serial {display: flex;flex-direction: column;align-items: center;background-color: white;padding-right: 0.2em;padding-left: 0.2em;position: relative;}#sk-container-id-1 div.sk-item {position: relative;z-index: 1;}#sk-container-id-1 div.sk-parallel {display: flex;align-items: stretch;justify-content: center;background-color: white;position: relative;}#sk-container-id-1 div.sk-item::before, #sk-container-id-1 div.sk-parallel-item::before {content: \"\";position: absolute;border-left: 1px solid gray;box-sizing: border-box;top: 0;bottom: 0;left: 50%;z-index: -1;}#sk-container-id-1 div.sk-parallel-item {display: flex;flex-direction: column;z-index: 1;position: relative;background-color: white;}#sk-container-id-1 div.sk-parallel-item:first-child::after {align-self: flex-end;width: 50%;}#sk-container-id-1 div.sk-parallel-item:last-child::after {align-self: flex-start;width: 50%;}#sk-container-id-1 div.sk-parallel-item:only-child::after {width: 0;}#sk-container-id-1 div.sk-dashed-wrapped {border: 1px dashed gray;margin: 0 0.4em 0.5em 0.4em;box-sizing: border-box;padding-bottom: 0.4em;background-color: white;}#sk-container-id-1 div.sk-label label {font-family: monospace;font-weight: bold;display: inline-block;line-height: 1.2em;}#sk-container-id-1 div.sk-label-container {text-align: center;}#sk-container-id-1 div.sk-container {/* jupyter's `normalize.less` sets `[hidden] { display: none; }` but bootstrap.min.css set `[hidden] { display: none !important; }` so we also need the `!important` here to be able to override the default hidden behavior on the sphinx rendered scikit-learn.org. See: https://github.com/scikit-learn/scikit-learn/issues/21755 */display: inline-block !important;position: relative;}#sk-container-id-1 div.sk-text-repr-fallback {display: none;}</style><div id=\"sk-container-id-1\" class=\"sk-top-container\"><div class=\"sk-text-repr-fallback\"><pre>Pipeline(steps=[(&#x27;preprocessor&#x27;,\n",
       "                 ColumnTransformer(transformers=[(&#x27;num&#x27;,\n",
       "                                                  Pipeline(steps=[(&#x27;imputer&#x27;,\n",
       "                                                                   SimpleImputer(strategy=&#x27;median&#x27;)),\n",
       "                                                                  (&#x27;scaler&#x27;,\n",
       "                                                                   StandardScaler())]),\n",
       "                                                  [&#x27;StoreType&#x27;, &#x27;Assortment&#x27;,\n",
       "                                                   &#x27;Promo2&#x27;, &#x27;Promo2SinceWeek&#x27;,\n",
       "                                                   &#x27;Promo2SinceYear&#x27;,\n",
       "                                                   &#x27;DayOfWeek&#x27;, &#x27;Customers&#x27;,\n",
       "                                                   &#x27;Open&#x27;, &#x27;Promo&#x27;,\n",
       "                                                   &#x27;StateHoliday&#x27;,\n",
       "                                                   &#x27;SchoolHoliday&#x27;, &#x27;SalesDay&#x27;,\n",
       "                                                   &#x27;SalesMonth&#x27;, &#x27;SalesYear&#x27;,\n",
       "                                                   &#x27;PromoIntervalMonth1&#x27;,\n",
       "                                                   &#x27;PromoIntervalMonth2&#x27;,\n",
       "                                                   &#x27;PromoIntervalMonth3&#x27;,\n",
       "                                                   &#x27;PromoIntervalMonth4&#x27;,\n",
       "                                                   &#x27;CompetitionOpenSinceYear&#x27;,\n",
       "                                                   &#x27;CompetitionDistance&#x27;,\n",
       "                                                   &#x27;CompetitionOpenSinceMonth&#x27;])])),\n",
       "                (&#x27;pca&#x27;, PCA())])</pre><b>In a Jupyter environment, please rerun this cell to show the HTML representation or trust the notebook. <br />On GitHub, the HTML representation is unable to render, please try loading this page with nbviewer.org.</b></div><div class=\"sk-container\" hidden><div class=\"sk-item sk-dashed-wrapped\"><div class=\"sk-label-container\"><div class=\"sk-label sk-toggleable\"><input class=\"sk-toggleable__control sk-hidden--visually\" id=\"sk-estimator-id-1\" type=\"checkbox\" ><label for=\"sk-estimator-id-1\" class=\"sk-toggleable__label sk-toggleable__label-arrow\">Pipeline</label><div class=\"sk-toggleable__content\"><pre>Pipeline(steps=[(&#x27;preprocessor&#x27;,\n",
       "                 ColumnTransformer(transformers=[(&#x27;num&#x27;,\n",
       "                                                  Pipeline(steps=[(&#x27;imputer&#x27;,\n",
       "                                                                   SimpleImputer(strategy=&#x27;median&#x27;)),\n",
       "                                                                  (&#x27;scaler&#x27;,\n",
       "                                                                   StandardScaler())]),\n",
       "                                                  [&#x27;StoreType&#x27;, &#x27;Assortment&#x27;,\n",
       "                                                   &#x27;Promo2&#x27;, &#x27;Promo2SinceWeek&#x27;,\n",
       "                                                   &#x27;Promo2SinceYear&#x27;,\n",
       "                                                   &#x27;DayOfWeek&#x27;, &#x27;Customers&#x27;,\n",
       "                                                   &#x27;Open&#x27;, &#x27;Promo&#x27;,\n",
       "                                                   &#x27;StateHoliday&#x27;,\n",
       "                                                   &#x27;SchoolHoliday&#x27;, &#x27;SalesDay&#x27;,\n",
       "                                                   &#x27;SalesMonth&#x27;, &#x27;SalesYear&#x27;,\n",
       "                                                   &#x27;PromoIntervalMonth1&#x27;,\n",
       "                                                   &#x27;PromoIntervalMonth2&#x27;,\n",
       "                                                   &#x27;PromoIntervalMonth3&#x27;,\n",
       "                                                   &#x27;PromoIntervalMonth4&#x27;,\n",
       "                                                   &#x27;CompetitionOpenSinceYear&#x27;,\n",
       "                                                   &#x27;CompetitionDistance&#x27;,\n",
       "                                                   &#x27;CompetitionOpenSinceMonth&#x27;])])),\n",
       "                (&#x27;pca&#x27;, PCA())])</pre></div></div></div><div class=\"sk-serial\"><div class=\"sk-item sk-dashed-wrapped\"><div class=\"sk-label-container\"><div class=\"sk-label sk-toggleable\"><input class=\"sk-toggleable__control sk-hidden--visually\" id=\"sk-estimator-id-2\" type=\"checkbox\" ><label for=\"sk-estimator-id-2\" class=\"sk-toggleable__label sk-toggleable__label-arrow\">preprocessor: ColumnTransformer</label><div class=\"sk-toggleable__content\"><pre>ColumnTransformer(transformers=[(&#x27;num&#x27;,\n",
       "                                 Pipeline(steps=[(&#x27;imputer&#x27;,\n",
       "                                                  SimpleImputer(strategy=&#x27;median&#x27;)),\n",
       "                                                 (&#x27;scaler&#x27;, StandardScaler())]),\n",
       "                                 [&#x27;StoreType&#x27;, &#x27;Assortment&#x27;, &#x27;Promo2&#x27;,\n",
       "                                  &#x27;Promo2SinceWeek&#x27;, &#x27;Promo2SinceYear&#x27;,\n",
       "                                  &#x27;DayOfWeek&#x27;, &#x27;Customers&#x27;, &#x27;Open&#x27;, &#x27;Promo&#x27;,\n",
       "                                  &#x27;StateHoliday&#x27;, &#x27;SchoolHoliday&#x27;, &#x27;SalesDay&#x27;,\n",
       "                                  &#x27;SalesMonth&#x27;, &#x27;SalesYear&#x27;,\n",
       "                                  &#x27;PromoIntervalMonth1&#x27;, &#x27;PromoIntervalMonth2&#x27;,\n",
       "                                  &#x27;PromoIntervalMonth3&#x27;, &#x27;PromoIntervalMonth4&#x27;,\n",
       "                                  &#x27;CompetitionOpenSinceYear&#x27;,\n",
       "                                  &#x27;CompetitionDistance&#x27;,\n",
       "                                  &#x27;CompetitionOpenSinceMonth&#x27;])])</pre></div></div></div><div class=\"sk-parallel\"><div class=\"sk-parallel-item\"><div class=\"sk-item\"><div class=\"sk-label-container\"><div class=\"sk-label sk-toggleable\"><input class=\"sk-toggleable__control sk-hidden--visually\" id=\"sk-estimator-id-3\" type=\"checkbox\" ><label for=\"sk-estimator-id-3\" class=\"sk-toggleable__label sk-toggleable__label-arrow\">num</label><div class=\"sk-toggleable__content\"><pre>[&#x27;StoreType&#x27;, &#x27;Assortment&#x27;, &#x27;Promo2&#x27;, &#x27;Promo2SinceWeek&#x27;, &#x27;Promo2SinceYear&#x27;, &#x27;DayOfWeek&#x27;, &#x27;Customers&#x27;, &#x27;Open&#x27;, &#x27;Promo&#x27;, &#x27;StateHoliday&#x27;, &#x27;SchoolHoliday&#x27;, &#x27;SalesDay&#x27;, &#x27;SalesMonth&#x27;, &#x27;SalesYear&#x27;, &#x27;PromoIntervalMonth1&#x27;, &#x27;PromoIntervalMonth2&#x27;, &#x27;PromoIntervalMonth3&#x27;, &#x27;PromoIntervalMonth4&#x27;, &#x27;CompetitionOpenSinceYear&#x27;, &#x27;CompetitionDistance&#x27;, &#x27;CompetitionOpenSinceMonth&#x27;]</pre></div></div></div><div class=\"sk-serial\"><div class=\"sk-item\"><div class=\"sk-serial\"><div class=\"sk-item\"><div class=\"sk-estimator sk-toggleable\"><input class=\"sk-toggleable__control sk-hidden--visually\" id=\"sk-estimator-id-4\" type=\"checkbox\" ><label for=\"sk-estimator-id-4\" class=\"sk-toggleable__label sk-toggleable__label-arrow\">SimpleImputer</label><div class=\"sk-toggleable__content\"><pre>SimpleImputer(strategy=&#x27;median&#x27;)</pre></div></div></div><div class=\"sk-item\"><div class=\"sk-estimator sk-toggleable\"><input class=\"sk-toggleable__control sk-hidden--visually\" id=\"sk-estimator-id-5\" type=\"checkbox\" ><label for=\"sk-estimator-id-5\" class=\"sk-toggleable__label sk-toggleable__label-arrow\">StandardScaler</label><div class=\"sk-toggleable__content\"><pre>StandardScaler()</pre></div></div></div></div></div></div></div></div></div></div><div class=\"sk-item\"><div class=\"sk-estimator sk-toggleable\"><input class=\"sk-toggleable__control sk-hidden--visually\" id=\"sk-estimator-id-6\" type=\"checkbox\" ><label for=\"sk-estimator-id-6\" class=\"sk-toggleable__label sk-toggleable__label-arrow\">PCA</label><div class=\"sk-toggleable__content\"><pre>PCA()</pre></div></div></div></div></div></div></div>"
      ],
      "text/plain": [
       "Pipeline(steps=[('preprocessor',\n",
       "                 ColumnTransformer(transformers=[('num',\n",
       "                                                  Pipeline(steps=[('imputer',\n",
       "                                                                   SimpleImputer(strategy='median')),\n",
       "                                                                  ('scaler',\n",
       "                                                                   StandardScaler())]),\n",
       "                                                  ['StoreType', 'Assortment',\n",
       "                                                   'Promo2', 'Promo2SinceWeek',\n",
       "                                                   'Promo2SinceYear',\n",
       "                                                   'DayOfWeek', 'Customers',\n",
       "                                                   'Open', 'Promo',\n",
       "                                                   'StateHoliday',\n",
       "                                                   'SchoolHoliday', 'SalesDay',\n",
       "                                                   'SalesMonth', 'SalesYear',\n",
       "                                                   'PromoIntervalMonth1',\n",
       "                                                   'PromoIntervalMonth2',\n",
       "                                                   'PromoIntervalMonth3',\n",
       "                                                   'PromoIntervalMonth4',\n",
       "                                                   'CompetitionOpenSinceYear',\n",
       "                                                   'CompetitionDistance',\n",
       "                                                   'CompetitionOpenSinceMonth'])])),\n",
       "                ('pca', PCA())])"
      ]
     },
     "execution_count": 24,
     "metadata": {},
     "output_type": "execute_result"
    }
   ],
   "source": [
    "numeric_transformer = Pipeline(\n",
    "    steps=[(\"imputer\", SimpleImputer(strategy=\"median\")), \n",
    "            (\"scaler\", StandardScaler())]\n",
    ")\n",
    "\n",
    "preprocessor = ColumnTransformer(\n",
    "    transformers=[\n",
    "        (\"num\", numeric_transformer, columns_for_inference),\n",
    "    ]\n",
    ")\n",
    "\n",
    "pipeline_preprocessing = Pipeline(\n",
    "    steps=[(\"preprocessor\", preprocessor), (\"pca\",PCA())]\n",
    ")\n",
    "\n",
    "pipeline_preprocessing"
   ]
  },
  {
   "cell_type": "markdown",
   "metadata": {},
   "source": [
    "## PCA. Análisis de las Componentes Principales\n",
    "En esta sección evaluamos el análisis de las componentes principales con el objetivo de determinar que columnas son imporantes para el modelo"
   ]
  },
  {
   "cell_type": "code",
   "execution_count": 25,
   "metadata": {
    "ExecuteTime": {
     "end_time": "2024-05-25T21:49:10.929939Z",
     "start_time": "2024-05-25T21:49:10.855110Z"
    },
    "tags": []
   },
   "outputs": [
    {
     "data": {
      "text/plain": [
       "((1017209, 21), (1017209, 1))"
      ]
     },
     "execution_count": 25,
     "metadata": {},
     "output_type": "execute_result"
    }
   ],
   "source": [
    "X = enrichedMegaDF[columns_for_inference]\n",
    "Y = enrichedMegaDF[[column_to_predict]]\n",
    "X.shape, Y.shape"
   ]
  },
  {
   "cell_type": "code",
   "execution_count": 26,
   "metadata": {
    "ExecuteTime": {
     "end_time": "2024-05-25T21:49:16.802896Z",
     "start_time": "2024-05-25T21:49:13.669161Z"
    },
    "tags": []
   },
   "outputs": [],
   "source": [
    "pipeline_preprocessing.fit(X,Y)\n",
    "columns = X.columns.to_list()\n",
    "# Se extrae el modelo entrenado del pipeline\n",
    "modelo_pca = pipeline_preprocessing.named_steps['pca']"
   ]
  },
  {
   "cell_type": "markdown",
   "metadata": {},
   "source": [
    "### Varianza por Componente Principal\n",
    "En esta sección analizamos la importancia de cada columna en la predicción"
   ]
  },
  {
   "cell_type": "code",
   "execution_count": 27,
   "metadata": {
    "ExecuteTime": {
     "end_time": "2024-05-25T21:49:20.333839Z",
     "start_time": "2024-05-25T21:49:19.542297Z"
    },
    "tags": []
   },
   "outputs": [
    {
     "data": {
      "image/png": "[encoded data removed]",
      "text/plain": [
       "<Figure size 1000x500 with 1 Axes>"
      ]
     },
     "metadata": {},
     "output_type": "display_data"
    }
   ],
   "source": [
    "fig, ax = plt.subplots(nrows=1, ncols=1, figsize=(10, 5))\n",
    "ax.bar(\n",
    "    x      = np.arange(modelo_pca.n_components_) + 1,\n",
    "    height = modelo_pca.explained_variance_ratio_\n",
    ")\n",
    "\n",
    "for x, y in zip(np.arange(len(columns)) + 1, modelo_pca.explained_variance_ratio_):\n",
    "    label = round(y, 2)\n",
    "    ax.annotate(\n",
    "        label,\n",
    "        (x,y),\n",
    "        textcoords=\"offset points\",\n",
    "        xytext=(0,10),\n",
    "        ha='center'\n",
    "    )\n",
    "\n",
    "ax.set_xticks(np.arange(modelo_pca.n_components_) + 1)\n",
    "ax.set_ylim(0, 1.1)\n",
    "ax.set_title('Porcentaje de varianza explicada por cada componente')\n",
    "ax.set_xlabel('Componente principal')\n",
    "ax.set_xticklabels(columns, rotation=90)\n",
    "ax.set_ylabel('Por. varianza explicada')\n",
    "plt.show()"
   ]
  },
  {
   "cell_type": "markdown",
   "metadata": {},
   "source": [
    "### Varianza Acumulada\n",
    "En esta sección analizamos la importancia aculada de cada columna en el modelo de predicción. De esta forma podemos observar cuando alcanzamos el 100 % de la varianza acumulada y que columnas son las que acumulan para llegar a ese 100 %."
   ]
  },
  {
   "cell_type": "code",
   "execution_count": 28,
   "metadata": {
    "ExecuteTime": {
     "end_time": "2024-05-25T21:49:50.731394Z",
     "start_time": "2024-05-25T21:49:50.418175Z"
    },
    "tags": []
   },
   "outputs": [
    {
     "data": {
      "image/png": "[encoded data removed]",
      "text/plain": [
       "<Figure size 600x400 with 1 Axes>"
      ]
     },
     "metadata": {},
     "output_type": "display_data"
    }
   ],
   "source": [
    "prop_varianza_acum = modelo_pca.explained_variance_ratio_.cumsum()\n",
    "\n",
    "fig, ax = plt.subplots(nrows=1, ncols=1, figsize=(6, 4))\n",
    "ax.plot(\n",
    "    np.arange(len(columns)) + 1,\n",
    "    prop_varianza_acum,\n",
    "    marker = 'o'\n",
    ")\n",
    "\n",
    "for x, y in zip(np.arange(len(columns)) + 1, prop_varianza_acum):\n",
    "    label = round(y, 2)\n",
    "    ax.annotate(\n",
    "        label,\n",
    "        (x,y),\n",
    "        textcoords=\"offset points\",\n",
    "        xytext=(0,10),\n",
    "        ha='center'\n",
    "    )\n",
    "    \n",
    "ax.set_ylim(0, 1.1)\n",
    "ax.set_xticks(np.arange(modelo_pca.n_components_) + 1)\n",
    "ax.set_xticklabels(columns, rotation=90) \n",
    "ax.set_title('Porcentaje de varianza explicada acumulada')\n",
    "ax.set_xlabel('Componente principal')\n",
    "ax.set_ylabel('Por. varianza acumulada');\n",
    "plt.show()"
   ]
  },
  {
   "cell_type": "markdown",
   "metadata": {},
   "source": [
    "## Pipelines de Predicción"
   ]
  },
  {
   "cell_type": "markdown",
   "metadata": {},
   "source": [
    "### Pipeline - Regresión Lineal"
   ]
  },
  {
   "cell_type": "code",
   "execution_count": 29,
   "metadata": {
    "ExecuteTime": {
     "end_time": "2024-05-25T21:50:21.408280Z",
     "start_time": "2024-05-25T21:50:21.369092Z"
    },
    "tags": []
   },
   "outputs": [
    {
     "data": {
      "text/html": [
       "<style>#sk-container-id-2 {color: black;}#sk-container-id-2 pre{padding: 0;}#sk-container-id-2 div.sk-toggleable {background-color: white;}#sk-container-id-2 label.sk-toggleable__label {cursor: pointer;display: block;width: 100%;margin-bottom: 0;padding: 0.3em;box-sizing: border-box;text-align: center;}#sk-container-id-2 label.sk-toggleable__label-arrow:before {content: \"▸\";float: left;margin-right: 0.25em;color: #696969;}#sk-container-id-2 label.sk-toggleable__label-arrow:hover:before {color: black;}#sk-container-id-2 div.sk-estimator:hover label.sk-toggleable__label-arrow:before {color: black;}#sk-container-id-2 div.sk-toggleable__content {max-height: 0;max-width: 0;overflow: hidden;text-align: left;background-color: #f0f8ff;}#sk-container-id-2 div.sk-toggleable__content pre {margin: 0.2em;color: black;border-radius: 0.25em;background-color: #f0f8ff;}#sk-container-id-2 input.sk-toggleable__control:checked~div.sk-toggleable__content {max-height: 200px;max-width: 100%;overflow: auto;}#sk-container-id-2 input.sk-toggleable__control:checked~label.sk-toggleable__label-arrow:before {content: \"▾\";}#sk-container-id-2 div.sk-estimator input.sk-toggleable__control:checked~label.sk-toggleable__label {background-color: #d4ebff;}#sk-container-id-2 div.sk-label input.sk-toggleable__control:checked~label.sk-toggleable__label {background-color: #d4ebff;}#sk-container-id-2 input.sk-hidden--visually {border: 0;clip: rect(1px 1px 1px 1px);clip: rect(1px, 1px, 1px, 1px);height: 1px;margin: -1px;overflow: hidden;padding: 0;position: absolute;width: 1px;}#sk-container-id-2 div.sk-estimator {font-family: monospace;background-color: #f0f8ff;border: 1px dotted black;border-radius: 0.25em;box-sizing: border-box;margin-bottom: 0.5em;}#sk-container-id-2 div.sk-estimator:hover {background-color: #d4ebff;}#sk-container-id-2 div.sk-parallel-item::after {content: \"\";width: 100%;border-bottom: 1px solid gray;flex-grow: 1;}#sk-container-id-2 div.sk-label:hover label.sk-toggleable__label {background-color: #d4ebff;}#sk-container-id-2 div.sk-serial::before {content: \"\";position: absolute;border-left: 1px solid gray;box-sizing: border-box;top: 0;bottom: 0;left: 50%;z-index: 0;}#sk-container-id-2 div.sk-serial {display: flex;flex-direction: column;align-items: center;background-color: white;padding-right: 0.2em;padding-left: 0.2em;position: relative;}#sk-container-id-2 div.sk-item {position: relative;z-index: 1;}#sk-container-id-2 div.sk-parallel {display: flex;align-items: stretch;justify-content: center;background-color: white;position: relative;}#sk-container-id-2 div.sk-item::before, #sk-container-id-2 div.sk-parallel-item::before {content: \"\";position: absolute;border-left: 1px solid gray;box-sizing: border-box;top: 0;bottom: 0;left: 50%;z-index: -1;}#sk-container-id-2 div.sk-parallel-item {display: flex;flex-direction: column;z-index: 1;position: relative;background-color: white;}#sk-container-id-2 div.sk-parallel-item:first-child::after {align-self: flex-end;width: 50%;}#sk-container-id-2 div.sk-parallel-item:last-child::after {align-self: flex-start;width: 50%;}#sk-container-id-2 div.sk-parallel-item:only-child::after {width: 0;}#sk-container-id-2 div.sk-dashed-wrapped {border: 1px dashed gray;margin: 0 0.4em 0.5em 0.4em;box-sizing: border-box;padding-bottom: 0.4em;background-color: white;}#sk-container-id-2 div.sk-label label {font-family: monospace;font-weight: bold;display: inline-block;line-height: 1.2em;}#sk-container-id-2 div.sk-label-container {text-align: center;}#sk-container-id-2 div.sk-container {/* jupyter's `normalize.less` sets `[hidden] { display: none; }` but bootstrap.min.css set `[hidden] { display: none !important; }` so we also need the `!important` here to be able to override the default hidden behavior on the sphinx rendered scikit-learn.org. See: https://github.com/scikit-learn/scikit-learn/issues/21755 */display: inline-block !important;position: relative;}#sk-container-id-2 div.sk-text-repr-fallback {display: none;}</style><div id=\"sk-container-id-2\" class=\"sk-top-container\"><div class=\"sk-text-repr-fallback\"><pre>Pipeline(steps=[(&#x27;preprocessor&#x27;,\n",
       "                 ColumnTransformer(transformers=[(&#x27;num&#x27;,\n",
       "                                                  Pipeline(steps=[(&#x27;imputer&#x27;,\n",
       "                                                                   SimpleImputer(strategy=&#x27;median&#x27;)),\n",
       "                                                                  (&#x27;scaler&#x27;,\n",
       "                                                                   StandardScaler())]),\n",
       "                                                  [&#x27;StoreType&#x27;, &#x27;Assortment&#x27;,\n",
       "                                                   &#x27;Promo2&#x27;, &#x27;Promo2SinceWeek&#x27;,\n",
       "                                                   &#x27;Promo2SinceYear&#x27;,\n",
       "                                                   &#x27;DayOfWeek&#x27;, &#x27;Customers&#x27;,\n",
       "                                                   &#x27;Open&#x27;, &#x27;Promo&#x27;,\n",
       "                                                   &#x27;StateHoliday&#x27;,\n",
       "                                                   &#x27;SchoolHoliday&#x27;, &#x27;SalesDay&#x27;,\n",
       "                                                   &#x27;SalesMonth&#x27;, &#x27;SalesYear&#x27;,\n",
       "                                                   &#x27;PromoIntervalMonth1&#x27;,\n",
       "                                                   &#x27;PromoIntervalMonth2&#x27;,\n",
       "                                                   &#x27;PromoIntervalMonth3&#x27;,\n",
       "                                                   &#x27;PromoIntervalMonth4&#x27;,\n",
       "                                                   &#x27;CompetitionOpenSinceYear&#x27;,\n",
       "                                                   &#x27;CompetitionDistance&#x27;,\n",
       "                                                   &#x27;CompetitionOpenSinceMonth&#x27;])])),\n",
       "                (&#x27;pca&#x27;, PCA(n_components=16)), (&#x27;clf&#x27;, LinearRegression())])</pre><b>In a Jupyter environment, please rerun this cell to show the HTML representation or trust the notebook. <br />On GitHub, the HTML representation is unable to render, please try loading this page with nbviewer.org.</b></div><div class=\"sk-container\" hidden><div class=\"sk-item sk-dashed-wrapped\"><div class=\"sk-label-container\"><div class=\"sk-label sk-toggleable\"><input class=\"sk-toggleable__control sk-hidden--visually\" id=\"sk-estimator-id-7\" type=\"checkbox\" ><label for=\"sk-estimator-id-7\" class=\"sk-toggleable__label sk-toggleable__label-arrow\">Pipeline</label><div class=\"sk-toggleable__content\"><pre>Pipeline(steps=[(&#x27;preprocessor&#x27;,\n",
       "                 ColumnTransformer(transformers=[(&#x27;num&#x27;,\n",
       "                                                  Pipeline(steps=[(&#x27;imputer&#x27;,\n",
       "                                                                   SimpleImputer(strategy=&#x27;median&#x27;)),\n",
       "                                                                  (&#x27;scaler&#x27;,\n",
       "                                                                   StandardScaler())]),\n",
       "                                                  [&#x27;StoreType&#x27;, &#x27;Assortment&#x27;,\n",
       "                                                   &#x27;Promo2&#x27;, &#x27;Promo2SinceWeek&#x27;,\n",
       "                                                   &#x27;Promo2SinceYear&#x27;,\n",
       "                                                   &#x27;DayOfWeek&#x27;, &#x27;Customers&#x27;,\n",
       "                                                   &#x27;Open&#x27;, &#x27;Promo&#x27;,\n",
       "                                                   &#x27;StateHoliday&#x27;,\n",
       "                                                   &#x27;SchoolHoliday&#x27;, &#x27;SalesDay&#x27;,\n",
       "                                                   &#x27;SalesMonth&#x27;, &#x27;SalesYear&#x27;,\n",
       "                                                   &#x27;PromoIntervalMonth1&#x27;,\n",
       "                                                   &#x27;PromoIntervalMonth2&#x27;,\n",
       "                                                   &#x27;PromoIntervalMonth3&#x27;,\n",
       "                                                   &#x27;PromoIntervalMonth4&#x27;,\n",
       "                                                   &#x27;CompetitionOpenSinceYear&#x27;,\n",
       "                                                   &#x27;CompetitionDistance&#x27;,\n",
       "                                                   &#x27;CompetitionOpenSinceMonth&#x27;])])),\n",
       "                (&#x27;pca&#x27;, PCA(n_components=16)), (&#x27;clf&#x27;, LinearRegression())])</pre></div></div></div><div class=\"sk-serial\"><div class=\"sk-item sk-dashed-wrapped\"><div class=\"sk-label-container\"><div class=\"sk-label sk-toggleable\"><input class=\"sk-toggleable__control sk-hidden--visually\" id=\"sk-estimator-id-8\" type=\"checkbox\" ><label for=\"sk-estimator-id-8\" class=\"sk-toggleable__label sk-toggleable__label-arrow\">preprocessor: ColumnTransformer</label><div class=\"sk-toggleable__content\"><pre>ColumnTransformer(transformers=[(&#x27;num&#x27;,\n",
       "                                 Pipeline(steps=[(&#x27;imputer&#x27;,\n",
       "                                                  SimpleImputer(strategy=&#x27;median&#x27;)),\n",
       "                                                 (&#x27;scaler&#x27;, StandardScaler())]),\n",
       "                                 [&#x27;StoreType&#x27;, &#x27;Assortment&#x27;, &#x27;Promo2&#x27;,\n",
       "                                  &#x27;Promo2SinceWeek&#x27;, &#x27;Promo2SinceYear&#x27;,\n",
       "                                  &#x27;DayOfWeek&#x27;, &#x27;Customers&#x27;, &#x27;Open&#x27;, &#x27;Promo&#x27;,\n",
       "                                  &#x27;StateHoliday&#x27;, &#x27;SchoolHoliday&#x27;, &#x27;SalesDay&#x27;,\n",
       "                                  &#x27;SalesMonth&#x27;, &#x27;SalesYear&#x27;,\n",
       "                                  &#x27;PromoIntervalMonth1&#x27;, &#x27;PromoIntervalMonth2&#x27;,\n",
       "                                  &#x27;PromoIntervalMonth3&#x27;, &#x27;PromoIntervalMonth4&#x27;,\n",
       "                                  &#x27;CompetitionOpenSinceYear&#x27;,\n",
       "                                  &#x27;CompetitionDistance&#x27;,\n",
       "                                  &#x27;CompetitionOpenSinceMonth&#x27;])])</pre></div></div></div><div class=\"sk-parallel\"><div class=\"sk-parallel-item\"><div class=\"sk-item\"><div class=\"sk-label-container\"><div class=\"sk-label sk-toggleable\"><input class=\"sk-toggleable__control sk-hidden--visually\" id=\"sk-estimator-id-9\" type=\"checkbox\" ><label for=\"sk-estimator-id-9\" class=\"sk-toggleable__label sk-toggleable__label-arrow\">num</label><div class=\"sk-toggleable__content\"><pre>[&#x27;StoreType&#x27;, &#x27;Assortment&#x27;, &#x27;Promo2&#x27;, &#x27;Promo2SinceWeek&#x27;, &#x27;Promo2SinceYear&#x27;, &#x27;DayOfWeek&#x27;, &#x27;Customers&#x27;, &#x27;Open&#x27;, &#x27;Promo&#x27;, &#x27;StateHoliday&#x27;, &#x27;SchoolHoliday&#x27;, &#x27;SalesDay&#x27;, &#x27;SalesMonth&#x27;, &#x27;SalesYear&#x27;, &#x27;PromoIntervalMonth1&#x27;, &#x27;PromoIntervalMonth2&#x27;, &#x27;PromoIntervalMonth3&#x27;, &#x27;PromoIntervalMonth4&#x27;, &#x27;CompetitionOpenSinceYear&#x27;, &#x27;CompetitionDistance&#x27;, &#x27;CompetitionOpenSinceMonth&#x27;]</pre></div></div></div><div class=\"sk-serial\"><div class=\"sk-item\"><div class=\"sk-serial\"><div class=\"sk-item\"><div class=\"sk-estimator sk-toggleable\"><input class=\"sk-toggleable__control sk-hidden--visually\" id=\"sk-estimator-id-10\" type=\"checkbox\" ><label for=\"sk-estimator-id-10\" class=\"sk-toggleable__label sk-toggleable__label-arrow\">SimpleImputer</label><div class=\"sk-toggleable__content\"><pre>SimpleImputer(strategy=&#x27;median&#x27;)</pre></div></div></div><div class=\"sk-item\"><div class=\"sk-estimator sk-toggleable\"><input class=\"sk-toggleable__control sk-hidden--visually\" id=\"sk-estimator-id-11\" type=\"checkbox\" ><label for=\"sk-estimator-id-11\" class=\"sk-toggleable__label sk-toggleable__label-arrow\">StandardScaler</label><div class=\"sk-toggleable__content\"><pre>StandardScaler()</pre></div></div></div></div></div></div></div></div></div></div><div class=\"sk-item\"><div class=\"sk-estimator sk-toggleable\"><input class=\"sk-toggleable__control sk-hidden--visually\" id=\"sk-estimator-id-12\" type=\"checkbox\" ><label for=\"sk-estimator-id-12\" class=\"sk-toggleable__label sk-toggleable__label-arrow\">PCA</label><div class=\"sk-toggleable__content\"><pre>PCA(n_components=16)</pre></div></div></div><div class=\"sk-item\"><div class=\"sk-estimator sk-toggleable\"><input class=\"sk-toggleable__control sk-hidden--visually\" id=\"sk-estimator-id-13\" type=\"checkbox\" ><label for=\"sk-estimator-id-13\" class=\"sk-toggleable__label sk-toggleable__label-arrow\">LinearRegression</label><div class=\"sk-toggleable__content\"><pre>LinearRegression()</pre></div></div></div></div></div></div></div>"
      ],
      "text/plain": [
       "Pipeline(steps=[('preprocessor',\n",
       "                 ColumnTransformer(transformers=[('num',\n",
       "                                                  Pipeline(steps=[('imputer',\n",
       "                                                                   SimpleImputer(strategy='median')),\n",
       "                                                                  ('scaler',\n",
       "                                                                   StandardScaler())]),\n",
       "                                                  ['StoreType', 'Assortment',\n",
       "                                                   'Promo2', 'Promo2SinceWeek',\n",
       "                                                   'Promo2SinceYear',\n",
       "                                                   'DayOfWeek', 'Customers',\n",
       "                                                   'Open', 'Promo',\n",
       "                                                   'StateHoliday',\n",
       "                                                   'SchoolHoliday', 'SalesDay',\n",
       "                                                   'SalesMonth', 'SalesYear',\n",
       "                                                   'PromoIntervalMonth1',\n",
       "                                                   'PromoIntervalMonth2',\n",
       "                                                   'PromoIntervalMonth3',\n",
       "                                                   'PromoIntervalMonth4',\n",
       "                                                   'CompetitionOpenSinceYear',\n",
       "                                                   'CompetitionDistance',\n",
       "                                                   'CompetitionOpenSinceMonth'])])),\n",
       "                ('pca', PCA(n_components=16)), ('clf', LinearRegression())])"
      ]
     },
     "execution_count": 29,
     "metadata": {},
     "output_type": "execute_result"
    }
   ],
   "source": [
    "pipeline_linear_regression = Pipeline(\n",
    "    steps=[\n",
    "        (\"preprocessor\", preprocessor), \n",
    "        (\"pca\",PCA(n_components = pca_no_componentes)), \n",
    "        (\"clf\", LinearRegression())]\n",
    ")\n",
    "pipeline_linear_regression"
   ]
  },
  {
   "cell_type": "markdown",
   "metadata": {},
   "source": [
    "### Pipeline - Árboles de Decisión"
   ]
  },
  {
   "cell_type": "code",
   "execution_count": 30,
   "metadata": {
    "ExecuteTime": {
     "end_time": "2024-05-25T21:50:23.603598Z",
     "start_time": "2024-05-25T21:50:23.570649Z"
    },
    "tags": []
   },
   "outputs": [
    {
     "data": {
      "text/html": [
       "<style>#sk-container-id-3 {color: black;}#sk-container-id-3 pre{padding: 0;}#sk-container-id-3 div.sk-toggleable {background-color: white;}#sk-container-id-3 label.sk-toggleable__label {cursor: pointer;display: block;width: 100%;margin-bottom: 0;padding: 0.3em;box-sizing: border-box;text-align: center;}#sk-container-id-3 label.sk-toggleable__label-arrow:before {content: \"▸\";float: left;margin-right: 0.25em;color: #696969;}#sk-container-id-3 label.sk-toggleable__label-arrow:hover:before {color: black;}#sk-container-id-3 div.sk-estimator:hover label.sk-toggleable__label-arrow:before {color: black;}#sk-container-id-3 div.sk-toggleable__content {max-height: 0;max-width: 0;overflow: hidden;text-align: left;background-color: #f0f8ff;}#sk-container-id-3 div.sk-toggleable__content pre {margin: 0.2em;color: black;border-radius: 0.25em;background-color: #f0f8ff;}#sk-container-id-3 input.sk-toggleable__control:checked~div.sk-toggleable__content {max-height: 200px;max-width: 100%;overflow: auto;}#sk-container-id-3 input.sk-toggleable__control:checked~label.sk-toggleable__label-arrow:before {content: \"▾\";}#sk-container-id-3 div.sk-estimator input.sk-toggleable__control:checked~label.sk-toggleable__label {background-color: #d4ebff;}#sk-container-id-3 div.sk-label input.sk-toggleable__control:checked~label.sk-toggleable__label {background-color: #d4ebff;}#sk-container-id-3 input.sk-hidden--visually {border: 0;clip: rect(1px 1px 1px 1px);clip: rect(1px, 1px, 1px, 1px);height: 1px;margin: -1px;overflow: hidden;padding: 0;position: absolute;width: 1px;}#sk-container-id-3 div.sk-estimator {font-family: monospace;background-color: #f0f8ff;border: 1px dotted black;border-radius: 0.25em;box-sizing: border-box;margin-bottom: 0.5em;}#sk-container-id-3 div.sk-estimator:hover {background-color: #d4ebff;}#sk-container-id-3 div.sk-parallel-item::after {content: \"\";width: 100%;border-bottom: 1px solid gray;flex-grow: 1;}#sk-container-id-3 div.sk-label:hover label.sk-toggleable__label {background-color: #d4ebff;}#sk-container-id-3 div.sk-serial::before {content: \"\";position: absolute;border-left: 1px solid gray;box-sizing: border-box;top: 0;bottom: 0;left: 50%;z-index: 0;}#sk-container-id-3 div.sk-serial {display: flex;flex-direction: column;align-items: center;background-color: white;padding-right: 0.2em;padding-left: 0.2em;position: relative;}#sk-container-id-3 div.sk-item {position: relative;z-index: 1;}#sk-container-id-3 div.sk-parallel {display: flex;align-items: stretch;justify-content: center;background-color: white;position: relative;}#sk-container-id-3 div.sk-item::before, #sk-container-id-3 div.sk-parallel-item::before {content: \"\";position: absolute;border-left: 1px solid gray;box-sizing: border-box;top: 0;bottom: 0;left: 50%;z-index: -1;}#sk-container-id-3 div.sk-parallel-item {display: flex;flex-direction: column;z-index: 1;position: relative;background-color: white;}#sk-container-id-3 div.sk-parallel-item:first-child::after {align-self: flex-end;width: 50%;}#sk-container-id-3 div.sk-parallel-item:last-child::after {align-self: flex-start;width: 50%;}#sk-container-id-3 div.sk-parallel-item:only-child::after {width: 0;}#sk-container-id-3 div.sk-dashed-wrapped {border: 1px dashed gray;margin: 0 0.4em 0.5em 0.4em;box-sizing: border-box;padding-bottom: 0.4em;background-color: white;}#sk-container-id-3 div.sk-label label {font-family: monospace;font-weight: bold;display: inline-block;line-height: 1.2em;}#sk-container-id-3 div.sk-label-container {text-align: center;}#sk-container-id-3 div.sk-container {/* jupyter's `normalize.less` sets `[hidden] { display: none; }` but bootstrap.min.css set `[hidden] { display: none !important; }` so we also need the `!important` here to be able to override the default hidden behavior on the sphinx rendered scikit-learn.org. See: https://github.com/scikit-learn/scikit-learn/issues/21755 */display: inline-block !important;position: relative;}#sk-container-id-3 div.sk-text-repr-fallback {display: none;}</style><div id=\"sk-container-id-3\" class=\"sk-top-container\"><div class=\"sk-text-repr-fallback\"><pre>Pipeline(steps=[(&#x27;preprocessor&#x27;,\n",
       "                 ColumnTransformer(transformers=[(&#x27;num&#x27;,\n",
       "                                                  Pipeline(steps=[(&#x27;imputer&#x27;,\n",
       "                                                                   SimpleImputer(strategy=&#x27;median&#x27;)),\n",
       "                                                                  (&#x27;scaler&#x27;,\n",
       "                                                                   StandardScaler())]),\n",
       "                                                  [&#x27;StoreType&#x27;, &#x27;Assortment&#x27;,\n",
       "                                                   &#x27;Promo2&#x27;, &#x27;Promo2SinceWeek&#x27;,\n",
       "                                                   &#x27;Promo2SinceYear&#x27;,\n",
       "                                                   &#x27;DayOfWeek&#x27;, &#x27;Customers&#x27;,\n",
       "                                                   &#x27;Open&#x27;, &#x27;Promo&#x27;,\n",
       "                                                   &#x27;StateHoliday&#x27;,\n",
       "                                                   &#x27;SchoolHoliday&#x27;, &#x27;SalesDay&#x27;,\n",
       "                                                   &#x27;SalesMonth&#x27;, &#x27;SalesYear&#x27;,\n",
       "                                                   &#x27;PromoIntervalMonth1&#x27;,\n",
       "                                                   &#x27;PromoIntervalMonth2&#x27;,\n",
       "                                                   &#x27;PromoIntervalMonth3&#x27;,\n",
       "                                                   &#x27;PromoIntervalMonth4&#x27;,\n",
       "                                                   &#x27;CompetitionOpenSinceYear&#x27;,\n",
       "                                                   &#x27;CompetitionDistance&#x27;,\n",
       "                                                   &#x27;CompetitionOpenSinceMonth&#x27;])])),\n",
       "                (&#x27;pca&#x27;, PCA(n_components=16)),\n",
       "                (&#x27;clf&#x27;,\n",
       "                 DecisionTreeRegressor(max_depth=15, min_samples_leaf=3,\n",
       "                                       min_samples_split=8, random_state=42))])</pre><b>In a Jupyter environment, please rerun this cell to show the HTML representation or trust the notebook. <br />On GitHub, the HTML representation is unable to render, please try loading this page with nbviewer.org.</b></div><div class=\"sk-container\" hidden><div class=\"sk-item sk-dashed-wrapped\"><div class=\"sk-label-container\"><div class=\"sk-label sk-toggleable\"><input class=\"sk-toggleable__control sk-hidden--visually\" id=\"sk-estimator-id-14\" type=\"checkbox\" ><label for=\"sk-estimator-id-14\" class=\"sk-toggleable__label sk-toggleable__label-arrow\">Pipeline</label><div class=\"sk-toggleable__content\"><pre>Pipeline(steps=[(&#x27;preprocessor&#x27;,\n",
       "                 ColumnTransformer(transformers=[(&#x27;num&#x27;,\n",
       "                                                  Pipeline(steps=[(&#x27;imputer&#x27;,\n",
       "                                                                   SimpleImputer(strategy=&#x27;median&#x27;)),\n",
       "                                                                  (&#x27;scaler&#x27;,\n",
       "                                                                   StandardScaler())]),\n",
       "                                                  [&#x27;StoreType&#x27;, &#x27;Assortment&#x27;,\n",
       "                                                   &#x27;Promo2&#x27;, &#x27;Promo2SinceWeek&#x27;,\n",
       "                                                   &#x27;Promo2SinceYear&#x27;,\n",
       "                                                   &#x27;DayOfWeek&#x27;, &#x27;Customers&#x27;,\n",
       "                                                   &#x27;Open&#x27;, &#x27;Promo&#x27;,\n",
       "                                                   &#x27;StateHoliday&#x27;,\n",
       "                                                   &#x27;SchoolHoliday&#x27;, &#x27;SalesDay&#x27;,\n",
       "                                                   &#x27;SalesMonth&#x27;, &#x27;SalesYear&#x27;,\n",
       "                                                   &#x27;PromoIntervalMonth1&#x27;,\n",
       "                                                   &#x27;PromoIntervalMonth2&#x27;,\n",
       "                                                   &#x27;PromoIntervalMonth3&#x27;,\n",
       "                                                   &#x27;PromoIntervalMonth4&#x27;,\n",
       "                                                   &#x27;CompetitionOpenSinceYear&#x27;,\n",
       "                                                   &#x27;CompetitionDistance&#x27;,\n",
       "                                                   &#x27;CompetitionOpenSinceMonth&#x27;])])),\n",
       "                (&#x27;pca&#x27;, PCA(n_components=16)),\n",
       "                (&#x27;clf&#x27;,\n",
       "                 DecisionTreeRegressor(max_depth=15, min_samples_leaf=3,\n",
       "                                       min_samples_split=8, random_state=42))])</pre></div></div></div><div class=\"sk-serial\"><div class=\"sk-item sk-dashed-wrapped\"><div class=\"sk-label-container\"><div class=\"sk-label sk-toggleable\"><input class=\"sk-toggleable__control sk-hidden--visually\" id=\"sk-estimator-id-15\" type=\"checkbox\" ><label for=\"sk-estimator-id-15\" class=\"sk-toggleable__label sk-toggleable__label-arrow\">preprocessor: ColumnTransformer</label><div class=\"sk-toggleable__content\"><pre>ColumnTransformer(transformers=[(&#x27;num&#x27;,\n",
       "                                 Pipeline(steps=[(&#x27;imputer&#x27;,\n",
       "                                                  SimpleImputer(strategy=&#x27;median&#x27;)),\n",
       "                                                 (&#x27;scaler&#x27;, StandardScaler())]),\n",
       "                                 [&#x27;StoreType&#x27;, &#x27;Assortment&#x27;, &#x27;Promo2&#x27;,\n",
       "                                  &#x27;Promo2SinceWeek&#x27;, &#x27;Promo2SinceYear&#x27;,\n",
       "                                  &#x27;DayOfWeek&#x27;, &#x27;Customers&#x27;, &#x27;Open&#x27;, &#x27;Promo&#x27;,\n",
       "                                  &#x27;StateHoliday&#x27;, &#x27;SchoolHoliday&#x27;, &#x27;SalesDay&#x27;,\n",
       "                                  &#x27;SalesMonth&#x27;, &#x27;SalesYear&#x27;,\n",
       "                                  &#x27;PromoIntervalMonth1&#x27;, &#x27;PromoIntervalMonth2&#x27;,\n",
       "                                  &#x27;PromoIntervalMonth3&#x27;, &#x27;PromoIntervalMonth4&#x27;,\n",
       "                                  &#x27;CompetitionOpenSinceYear&#x27;,\n",
       "                                  &#x27;CompetitionDistance&#x27;,\n",
       "                                  &#x27;CompetitionOpenSinceMonth&#x27;])])</pre></div></div></div><div class=\"sk-parallel\"><div class=\"sk-parallel-item\"><div class=\"sk-item\"><div class=\"sk-label-container\"><div class=\"sk-label sk-toggleable\"><input class=\"sk-toggleable__control sk-hidden--visually\" id=\"sk-estimator-id-16\" type=\"checkbox\" ><label for=\"sk-estimator-id-16\" class=\"sk-toggleable__label sk-toggleable__label-arrow\">num</label><div class=\"sk-toggleable__content\"><pre>[&#x27;StoreType&#x27;, &#x27;Assortment&#x27;, &#x27;Promo2&#x27;, &#x27;Promo2SinceWeek&#x27;, &#x27;Promo2SinceYear&#x27;, &#x27;DayOfWeek&#x27;, &#x27;Customers&#x27;, &#x27;Open&#x27;, &#x27;Promo&#x27;, &#x27;StateHoliday&#x27;, &#x27;SchoolHoliday&#x27;, &#x27;SalesDay&#x27;, &#x27;SalesMonth&#x27;, &#x27;SalesYear&#x27;, &#x27;PromoIntervalMonth1&#x27;, &#x27;PromoIntervalMonth2&#x27;, &#x27;PromoIntervalMonth3&#x27;, &#x27;PromoIntervalMonth4&#x27;, &#x27;CompetitionOpenSinceYear&#x27;, &#x27;CompetitionDistance&#x27;, &#x27;CompetitionOpenSinceMonth&#x27;]</pre></div></div></div><div class=\"sk-serial\"><div class=\"sk-item\"><div class=\"sk-serial\"><div class=\"sk-item\"><div class=\"sk-estimator sk-toggleable\"><input class=\"sk-toggleable__control sk-hidden--visually\" id=\"sk-estimator-id-17\" type=\"checkbox\" ><label for=\"sk-estimator-id-17\" class=\"sk-toggleable__label sk-toggleable__label-arrow\">SimpleImputer</label><div class=\"sk-toggleable__content\"><pre>SimpleImputer(strategy=&#x27;median&#x27;)</pre></div></div></div><div class=\"sk-item\"><div class=\"sk-estimator sk-toggleable\"><input class=\"sk-toggleable__control sk-hidden--visually\" id=\"sk-estimator-id-18\" type=\"checkbox\" ><label for=\"sk-estimator-id-18\" class=\"sk-toggleable__label sk-toggleable__label-arrow\">StandardScaler</label><div class=\"sk-toggleable__content\"><pre>StandardScaler()</pre></div></div></div></div></div></div></div></div></div></div><div class=\"sk-item\"><div class=\"sk-estimator sk-toggleable\"><input class=\"sk-toggleable__control sk-hidden--visually\" id=\"sk-estimator-id-19\" type=\"checkbox\" ><label for=\"sk-estimator-id-19\" class=\"sk-toggleable__label sk-toggleable__label-arrow\">PCA</label><div class=\"sk-toggleable__content\"><pre>PCA(n_components=16)</pre></div></div></div><div class=\"sk-item\"><div class=\"sk-estimator sk-toggleable\"><input class=\"sk-toggleable__control sk-hidden--visually\" id=\"sk-estimator-id-20\" type=\"checkbox\" ><label for=\"sk-estimator-id-20\" class=\"sk-toggleable__label sk-toggleable__label-arrow\">DecisionTreeRegressor</label><div class=\"sk-toggleable__content\"><pre>DecisionTreeRegressor(max_depth=15, min_samples_leaf=3, min_samples_split=8,\n",
       "                      random_state=42)</pre></div></div></div></div></div></div></div>"
      ],
      "text/plain": [
       "Pipeline(steps=[('preprocessor',\n",
       "                 ColumnTransformer(transformers=[('num',\n",
       "                                                  Pipeline(steps=[('imputer',\n",
       "                                                                   SimpleImputer(strategy='median')),\n",
       "                                                                  ('scaler',\n",
       "                                                                   StandardScaler())]),\n",
       "                                                  ['StoreType', 'Assortment',\n",
       "                                                   'Promo2', 'Promo2SinceWeek',\n",
       "                                                   'Promo2SinceYear',\n",
       "                                                   'DayOfWeek', 'Customers',\n",
       "                                                   'Open', 'Promo',\n",
       "                                                   'StateHoliday',\n",
       "                                                   'SchoolHoliday', 'SalesDay',\n",
       "                                                   'SalesMonth', 'SalesYear',\n",
       "                                                   'PromoIntervalMonth1',\n",
       "                                                   'PromoIntervalMonth2',\n",
       "                                                   'PromoIntervalMonth3',\n",
       "                                                   'PromoIntervalMonth4',\n",
       "                                                   'CompetitionOpenSinceYear',\n",
       "                                                   'CompetitionDistance',\n",
       "                                                   'CompetitionOpenSinceMonth'])])),\n",
       "                ('pca', PCA(n_components=16)),\n",
       "                ('clf',\n",
       "                 DecisionTreeRegressor(max_depth=15, min_samples_leaf=3,\n",
       "                                       min_samples_split=8, random_state=42))])"
      ]
     },
     "execution_count": 30,
     "metadata": {},
     "output_type": "execute_result"
    }
   ],
   "source": [
    "pipeline_decision_tree_regressor = Pipeline(\n",
    "    steps=[\n",
    "        (\"preprocessor\", preprocessor), \n",
    "        (\"pca\", PCA(n_components = pca_no_componentes)), \n",
    "        (\"clf\", DecisionTreeRegressor(random_state=pipeline_random_state, \n",
    "                                      max_depth = dtr_max_depth, \n",
    "                                      min_samples_leaf = dtr_min_samples_leaf, \n",
    "                                      min_samples_split = dtr_min_samples_split))\n",
    "    ]\n",
    ")\n",
    "pipeline_decision_tree_regressor"
   ]
  },
  {
   "cell_type": "markdown",
   "metadata": {},
   "source": [
    "### Pipeline - Lasso"
   ]
  },
  {
   "cell_type": "code",
   "execution_count": 31,
   "metadata": {
    "ExecuteTime": {
     "end_time": "2024-05-25T21:50:25.717396Z",
     "start_time": "2024-05-25T21:50:25.678471Z"
    },
    "tags": []
   },
   "outputs": [
    {
     "data": {
      "text/html": [
       "<style>#sk-container-id-4 {color: black;}#sk-container-id-4 pre{padding: 0;}#sk-container-id-4 div.sk-toggleable {background-color: white;}#sk-container-id-4 label.sk-toggleable__label {cursor: pointer;display: block;width: 100%;margin-bottom: 0;padding: 0.3em;box-sizing: border-box;text-align: center;}#sk-container-id-4 label.sk-toggleable__label-arrow:before {content: \"▸\";float: left;margin-right: 0.25em;color: #696969;}#sk-container-id-4 label.sk-toggleable__label-arrow:hover:before {color: black;}#sk-container-id-4 div.sk-estimator:hover label.sk-toggleable__label-arrow:before {color: black;}#sk-container-id-4 div.sk-toggleable__content {max-height: 0;max-width: 0;overflow: hidden;text-align: left;background-color: #f0f8ff;}#sk-container-id-4 div.sk-toggleable__content pre {margin: 0.2em;color: black;border-radius: 0.25em;background-color: #f0f8ff;}#sk-container-id-4 input.sk-toggleable__control:checked~div.sk-toggleable__content {max-height: 200px;max-width: 100%;overflow: auto;}#sk-container-id-4 input.sk-toggleable__control:checked~label.sk-toggleable__label-arrow:before {content: \"▾\";}#sk-container-id-4 div.sk-estimator input.sk-toggleable__control:checked~label.sk-toggleable__label {background-color: #d4ebff;}#sk-container-id-4 div.sk-label input.sk-toggleable__control:checked~label.sk-toggleable__label {background-color: #d4ebff;}#sk-container-id-4 input.sk-hidden--visually {border: 0;clip: rect(1px 1px 1px 1px);clip: rect(1px, 1px, 1px, 1px);height: 1px;margin: -1px;overflow: hidden;padding: 0;position: absolute;width: 1px;}#sk-container-id-4 div.sk-estimator {font-family: monospace;background-color: #f0f8ff;border: 1px dotted black;border-radius: 0.25em;box-sizing: border-box;margin-bottom: 0.5em;}#sk-container-id-4 div.sk-estimator:hover {background-color: #d4ebff;}#sk-container-id-4 div.sk-parallel-item::after {content: \"\";width: 100%;border-bottom: 1px solid gray;flex-grow: 1;}#sk-container-id-4 div.sk-label:hover label.sk-toggleable__label {background-color: #d4ebff;}#sk-container-id-4 div.sk-serial::before {content: \"\";position: absolute;border-left: 1px solid gray;box-sizing: border-box;top: 0;bottom: 0;left: 50%;z-index: 0;}#sk-container-id-4 div.sk-serial {display: flex;flex-direction: column;align-items: center;background-color: white;padding-right: 0.2em;padding-left: 0.2em;position: relative;}#sk-container-id-4 div.sk-item {position: relative;z-index: 1;}#sk-container-id-4 div.sk-parallel {display: flex;align-items: stretch;justify-content: center;background-color: white;position: relative;}#sk-container-id-4 div.sk-item::before, #sk-container-id-4 div.sk-parallel-item::before {content: \"\";position: absolute;border-left: 1px solid gray;box-sizing: border-box;top: 0;bottom: 0;left: 50%;z-index: -1;}#sk-container-id-4 div.sk-parallel-item {display: flex;flex-direction: column;z-index: 1;position: relative;background-color: white;}#sk-container-id-4 div.sk-parallel-item:first-child::after {align-self: flex-end;width: 50%;}#sk-container-id-4 div.sk-parallel-item:last-child::after {align-self: flex-start;width: 50%;}#sk-container-id-4 div.sk-parallel-item:only-child::after {width: 0;}#sk-container-id-4 div.sk-dashed-wrapped {border: 1px dashed gray;margin: 0 0.4em 0.5em 0.4em;box-sizing: border-box;padding-bottom: 0.4em;background-color: white;}#sk-container-id-4 div.sk-label label {font-family: monospace;font-weight: bold;display: inline-block;line-height: 1.2em;}#sk-container-id-4 div.sk-label-container {text-align: center;}#sk-container-id-4 div.sk-container {/* jupyter's `normalize.less` sets `[hidden] { display: none; }` but bootstrap.min.css set `[hidden] { display: none !important; }` so we also need the `!important` here to be able to override the default hidden behavior on the sphinx rendered scikit-learn.org. See: https://github.com/scikit-learn/scikit-learn/issues/21755 */display: inline-block !important;position: relative;}#sk-container-id-4 div.sk-text-repr-fallback {display: none;}</style><div id=\"sk-container-id-4\" class=\"sk-top-container\"><div class=\"sk-text-repr-fallback\"><pre>Pipeline(steps=[(&#x27;preprocessor&#x27;,\n",
       "                 ColumnTransformer(transformers=[(&#x27;num&#x27;,\n",
       "                                                  Pipeline(steps=[(&#x27;imputer&#x27;,\n",
       "                                                                   SimpleImputer(strategy=&#x27;median&#x27;)),\n",
       "                                                                  (&#x27;scaler&#x27;,\n",
       "                                                                   StandardScaler())]),\n",
       "                                                  [&#x27;StoreType&#x27;, &#x27;Assortment&#x27;,\n",
       "                                                   &#x27;Promo2&#x27;, &#x27;Promo2SinceWeek&#x27;,\n",
       "                                                   &#x27;Promo2SinceYear&#x27;,\n",
       "                                                   &#x27;DayOfWeek&#x27;, &#x27;Customers&#x27;,\n",
       "                                                   &#x27;Open&#x27;, &#x27;Promo&#x27;,\n",
       "                                                   &#x27;StateHoliday&#x27;,\n",
       "                                                   &#x27;SchoolHoliday&#x27;, &#x27;SalesDay&#x27;,\n",
       "                                                   &#x27;SalesMonth&#x27;, &#x27;SalesYear&#x27;,\n",
       "                                                   &#x27;PromoIntervalMonth1&#x27;,\n",
       "                                                   &#x27;PromoIntervalMonth2&#x27;,\n",
       "                                                   &#x27;PromoIntervalMonth3&#x27;,\n",
       "                                                   &#x27;PromoIntervalMonth4&#x27;,\n",
       "                                                   &#x27;CompetitionOpenSinceYear&#x27;,\n",
       "                                                   &#x27;CompetitionDistance&#x27;,\n",
       "                                                   &#x27;CompetitionOpenSinceMonth&#x27;])])),\n",
       "                (&#x27;pca&#x27;, PCA(n_components=16)),\n",
       "                (&#x27;clf&#x27;,\n",
       "                 Lasso(alpha=1, max_iter=5, random_state=42, tol=1e-05))])</pre><b>In a Jupyter environment, please rerun this cell to show the HTML representation or trust the notebook. <br />On GitHub, the HTML representation is unable to render, please try loading this page with nbviewer.org.</b></div><div class=\"sk-container\" hidden><div class=\"sk-item sk-dashed-wrapped\"><div class=\"sk-label-container\"><div class=\"sk-label sk-toggleable\"><input class=\"sk-toggleable__control sk-hidden--visually\" id=\"sk-estimator-id-21\" type=\"checkbox\" ><label for=\"sk-estimator-id-21\" class=\"sk-toggleable__label sk-toggleable__label-arrow\">Pipeline</label><div class=\"sk-toggleable__content\"><pre>Pipeline(steps=[(&#x27;preprocessor&#x27;,\n",
       "                 ColumnTransformer(transformers=[(&#x27;num&#x27;,\n",
       "                                                  Pipeline(steps=[(&#x27;imputer&#x27;,\n",
       "                                                                   SimpleImputer(strategy=&#x27;median&#x27;)),\n",
       "                                                                  (&#x27;scaler&#x27;,\n",
       "                                                                   StandardScaler())]),\n",
       "                                                  [&#x27;StoreType&#x27;, &#x27;Assortment&#x27;,\n",
       "                                                   &#x27;Promo2&#x27;, &#x27;Promo2SinceWeek&#x27;,\n",
       "                                                   &#x27;Promo2SinceYear&#x27;,\n",
       "                                                   &#x27;DayOfWeek&#x27;, &#x27;Customers&#x27;,\n",
       "                                                   &#x27;Open&#x27;, &#x27;Promo&#x27;,\n",
       "                                                   &#x27;StateHoliday&#x27;,\n",
       "                                                   &#x27;SchoolHoliday&#x27;, &#x27;SalesDay&#x27;,\n",
       "                                                   &#x27;SalesMonth&#x27;, &#x27;SalesYear&#x27;,\n",
       "                                                   &#x27;PromoIntervalMonth1&#x27;,\n",
       "                                                   &#x27;PromoIntervalMonth2&#x27;,\n",
       "                                                   &#x27;PromoIntervalMonth3&#x27;,\n",
       "                                                   &#x27;PromoIntervalMonth4&#x27;,\n",
       "                                                   &#x27;CompetitionOpenSinceYear&#x27;,\n",
       "                                                   &#x27;CompetitionDistance&#x27;,\n",
       "                                                   &#x27;CompetitionOpenSinceMonth&#x27;])])),\n",
       "                (&#x27;pca&#x27;, PCA(n_components=16)),\n",
       "                (&#x27;clf&#x27;,\n",
       "                 Lasso(alpha=1, max_iter=5, random_state=42, tol=1e-05))])</pre></div></div></div><div class=\"sk-serial\"><div class=\"sk-item sk-dashed-wrapped\"><div class=\"sk-label-container\"><div class=\"sk-label sk-toggleable\"><input class=\"sk-toggleable__control sk-hidden--visually\" id=\"sk-estimator-id-22\" type=\"checkbox\" ><label for=\"sk-estimator-id-22\" class=\"sk-toggleable__label sk-toggleable__label-arrow\">preprocessor: ColumnTransformer</label><div class=\"sk-toggleable__content\"><pre>ColumnTransformer(transformers=[(&#x27;num&#x27;,\n",
       "                                 Pipeline(steps=[(&#x27;imputer&#x27;,\n",
       "                                                  SimpleImputer(strategy=&#x27;median&#x27;)),\n",
       "                                                 (&#x27;scaler&#x27;, StandardScaler())]),\n",
       "                                 [&#x27;StoreType&#x27;, &#x27;Assortment&#x27;, &#x27;Promo2&#x27;,\n",
       "                                  &#x27;Promo2SinceWeek&#x27;, &#x27;Promo2SinceYear&#x27;,\n",
       "                                  &#x27;DayOfWeek&#x27;, &#x27;Customers&#x27;, &#x27;Open&#x27;, &#x27;Promo&#x27;,\n",
       "                                  &#x27;StateHoliday&#x27;, &#x27;SchoolHoliday&#x27;, &#x27;SalesDay&#x27;,\n",
       "                                  &#x27;SalesMonth&#x27;, &#x27;SalesYear&#x27;,\n",
       "                                  &#x27;PromoIntervalMonth1&#x27;, &#x27;PromoIntervalMonth2&#x27;,\n",
       "                                  &#x27;PromoIntervalMonth3&#x27;, &#x27;PromoIntervalMonth4&#x27;,\n",
       "                                  &#x27;CompetitionOpenSinceYear&#x27;,\n",
       "                                  &#x27;CompetitionDistance&#x27;,\n",
       "                                  &#x27;CompetitionOpenSinceMonth&#x27;])])</pre></div></div></div><div class=\"sk-parallel\"><div class=\"sk-parallel-item\"><div class=\"sk-item\"><div class=\"sk-label-container\"><div class=\"sk-label sk-toggleable\"><input class=\"sk-toggleable__control sk-hidden--visually\" id=\"sk-estimator-id-23\" type=\"checkbox\" ><label for=\"sk-estimator-id-23\" class=\"sk-toggleable__label sk-toggleable__label-arrow\">num</label><div class=\"sk-toggleable__content\"><pre>[&#x27;StoreType&#x27;, &#x27;Assortment&#x27;, &#x27;Promo2&#x27;, &#x27;Promo2SinceWeek&#x27;, &#x27;Promo2SinceYear&#x27;, &#x27;DayOfWeek&#x27;, &#x27;Customers&#x27;, &#x27;Open&#x27;, &#x27;Promo&#x27;, &#x27;StateHoliday&#x27;, &#x27;SchoolHoliday&#x27;, &#x27;SalesDay&#x27;, &#x27;SalesMonth&#x27;, &#x27;SalesYear&#x27;, &#x27;PromoIntervalMonth1&#x27;, &#x27;PromoIntervalMonth2&#x27;, &#x27;PromoIntervalMonth3&#x27;, &#x27;PromoIntervalMonth4&#x27;, &#x27;CompetitionOpenSinceYear&#x27;, &#x27;CompetitionDistance&#x27;, &#x27;CompetitionOpenSinceMonth&#x27;]</pre></div></div></div><div class=\"sk-serial\"><div class=\"sk-item\"><div class=\"sk-serial\"><div class=\"sk-item\"><div class=\"sk-estimator sk-toggleable\"><input class=\"sk-toggleable__control sk-hidden--visually\" id=\"sk-estimator-id-24\" type=\"checkbox\" ><label for=\"sk-estimator-id-24\" class=\"sk-toggleable__label sk-toggleable__label-arrow\">SimpleImputer</label><div class=\"sk-toggleable__content\"><pre>SimpleImputer(strategy=&#x27;median&#x27;)</pre></div></div></div><div class=\"sk-item\"><div class=\"sk-estimator sk-toggleable\"><input class=\"sk-toggleable__control sk-hidden--visually\" id=\"sk-estimator-id-25\" type=\"checkbox\" ><label for=\"sk-estimator-id-25\" class=\"sk-toggleable__label sk-toggleable__label-arrow\">StandardScaler</label><div class=\"sk-toggleable__content\"><pre>StandardScaler()</pre></div></div></div></div></div></div></div></div></div></div><div class=\"sk-item\"><div class=\"sk-estimator sk-toggleable\"><input class=\"sk-toggleable__control sk-hidden--visually\" id=\"sk-estimator-id-26\" type=\"checkbox\" ><label for=\"sk-estimator-id-26\" class=\"sk-toggleable__label sk-toggleable__label-arrow\">PCA</label><div class=\"sk-toggleable__content\"><pre>PCA(n_components=16)</pre></div></div></div><div class=\"sk-item\"><div class=\"sk-estimator sk-toggleable\"><input class=\"sk-toggleable__control sk-hidden--visually\" id=\"sk-estimator-id-27\" type=\"checkbox\" ><label for=\"sk-estimator-id-27\" class=\"sk-toggleable__label sk-toggleable__label-arrow\">Lasso</label><div class=\"sk-toggleable__content\"><pre>Lasso(alpha=1, max_iter=5, random_state=42, tol=1e-05)</pre></div></div></div></div></div></div></div>"
      ],
      "text/plain": [
       "Pipeline(steps=[('preprocessor',\n",
       "                 ColumnTransformer(transformers=[('num',\n",
       "                                                  Pipeline(steps=[('imputer',\n",
       "                                                                   SimpleImputer(strategy='median')),\n",
       "                                                                  ('scaler',\n",
       "                                                                   StandardScaler())]),\n",
       "                                                  ['StoreType', 'Assortment',\n",
       "                                                   'Promo2', 'Promo2SinceWeek',\n",
       "                                                   'Promo2SinceYear',\n",
       "                                                   'DayOfWeek', 'Customers',\n",
       "                                                   'Open', 'Promo',\n",
       "                                                   'StateHoliday',\n",
       "                                                   'SchoolHoliday', 'SalesDay',\n",
       "                                                   'SalesMonth', 'SalesYear',\n",
       "                                                   'PromoIntervalMonth1',\n",
       "                                                   'PromoIntervalMonth2',\n",
       "                                                   'PromoIntervalMonth3',\n",
       "                                                   'PromoIntervalMonth4',\n",
       "                                                   'CompetitionOpenSinceYear',\n",
       "                                                   'CompetitionDistance',\n",
       "                                                   'CompetitionOpenSinceMonth'])])),\n",
       "                ('pca', PCA(n_components=16)),\n",
       "                ('clf',\n",
       "                 Lasso(alpha=1, max_iter=5, random_state=42, tol=1e-05))])"
      ]
     },
     "execution_count": 31,
     "metadata": {},
     "output_type": "execute_result"
    }
   ],
   "source": [
    "pipeline_lasso = Pipeline(\n",
    "    steps=[\n",
    "        (\"preprocessor\", preprocessor), \n",
    "        (\"pca\",PCA(n_components = pca_no_componentes)), \n",
    "        (\"clf\", Lasso(random_state = pipeline_random_state, \n",
    "                      alpha = lasso_alpha, \n",
    "                      selection = lasso_selection, \n",
    "                      max_iter = lasso_max_iter, \n",
    "                      tol = lasso_tol))]\n",
    ")\n",
    "pipeline_lasso"
   ]
  },
  {
   "cell_type": "markdown",
   "metadata": {},
   "source": [
    "### Pipeline - Bosques Aleatorios"
   ]
  },
  {
   "cell_type": "code",
   "execution_count": 32,
   "metadata": {
    "ExecuteTime": {
     "end_time": "2024-05-25T21:50:27.998254Z",
     "start_time": "2024-05-25T21:50:27.957585Z"
    },
    "tags": []
   },
   "outputs": [
    {
     "data": {
      "text/html": [
       "<style>#sk-container-id-5 {color: black;}#sk-container-id-5 pre{padding: 0;}#sk-container-id-5 div.sk-toggleable {background-color: white;}#sk-container-id-5 label.sk-toggleable__label {cursor: pointer;display: block;width: 100%;margin-bottom: 0;padding: 0.3em;box-sizing: border-box;text-align: center;}#sk-container-id-5 label.sk-toggleable__label-arrow:before {content: \"▸\";float: left;margin-right: 0.25em;color: #696969;}#sk-container-id-5 label.sk-toggleable__label-arrow:hover:before {color: black;}#sk-container-id-5 div.sk-estimator:hover label.sk-toggleable__label-arrow:before {color: black;}#sk-container-id-5 div.sk-toggleable__content {max-height: 0;max-width: 0;overflow: hidden;text-align: left;background-color: #f0f8ff;}#sk-container-id-5 div.sk-toggleable__content pre {margin: 0.2em;color: black;border-radius: 0.25em;background-color: #f0f8ff;}#sk-container-id-5 input.sk-toggleable__control:checked~div.sk-toggleable__content {max-height: 200px;max-width: 100%;overflow: auto;}#sk-container-id-5 input.sk-toggleable__control:checked~label.sk-toggleable__label-arrow:before {content: \"▾\";}#sk-container-id-5 div.sk-estimator input.sk-toggleable__control:checked~label.sk-toggleable__label {background-color: #d4ebff;}#sk-container-id-5 div.sk-label input.sk-toggleable__control:checked~label.sk-toggleable__label {background-color: #d4ebff;}#sk-container-id-5 input.sk-hidden--visually {border: 0;clip: rect(1px 1px 1px 1px);clip: rect(1px, 1px, 1px, 1px);height: 1px;margin: -1px;overflow: hidden;padding: 0;position: absolute;width: 1px;}#sk-container-id-5 div.sk-estimator {font-family: monospace;background-color: #f0f8ff;border: 1px dotted black;border-radius: 0.25em;box-sizing: border-box;margin-bottom: 0.5em;}#sk-container-id-5 div.sk-estimator:hover {background-color: #d4ebff;}#sk-container-id-5 div.sk-parallel-item::after {content: \"\";width: 100%;border-bottom: 1px solid gray;flex-grow: 1;}#sk-container-id-5 div.sk-label:hover label.sk-toggleable__label {background-color: #d4ebff;}#sk-container-id-5 div.sk-serial::before {content: \"\";position: absolute;border-left: 1px solid gray;box-sizing: border-box;top: 0;bottom: 0;left: 50%;z-index: 0;}#sk-container-id-5 div.sk-serial {display: flex;flex-direction: column;align-items: center;background-color: white;padding-right: 0.2em;padding-left: 0.2em;position: relative;}#sk-container-id-5 div.sk-item {position: relative;z-index: 1;}#sk-container-id-5 div.sk-parallel {display: flex;align-items: stretch;justify-content: center;background-color: white;position: relative;}#sk-container-id-5 div.sk-item::before, #sk-container-id-5 div.sk-parallel-item::before {content: \"\";position: absolute;border-left: 1px solid gray;box-sizing: border-box;top: 0;bottom: 0;left: 50%;z-index: -1;}#sk-container-id-5 div.sk-parallel-item {display: flex;flex-direction: column;z-index: 1;position: relative;background-color: white;}#sk-container-id-5 div.sk-parallel-item:first-child::after {align-self: flex-end;width: 50%;}#sk-container-id-5 div.sk-parallel-item:last-child::after {align-self: flex-start;width: 50%;}#sk-container-id-5 div.sk-parallel-item:only-child::after {width: 0;}#sk-container-id-5 div.sk-dashed-wrapped {border: 1px dashed gray;margin: 0 0.4em 0.5em 0.4em;box-sizing: border-box;padding-bottom: 0.4em;background-color: white;}#sk-container-id-5 div.sk-label label {font-family: monospace;font-weight: bold;display: inline-block;line-height: 1.2em;}#sk-container-id-5 div.sk-label-container {text-align: center;}#sk-container-id-5 div.sk-container {/* jupyter's `normalize.less` sets `[hidden] { display: none; }` but bootstrap.min.css set `[hidden] { display: none !important; }` so we also need the `!important` here to be able to override the default hidden behavior on the sphinx rendered scikit-learn.org. See: https://github.com/scikit-learn/scikit-learn/issues/21755 */display: inline-block !important;position: relative;}#sk-container-id-5 div.sk-text-repr-fallback {display: none;}</style><div id=\"sk-container-id-5\" class=\"sk-top-container\"><div class=\"sk-text-repr-fallback\"><pre>Pipeline(steps=[(&#x27;preprocessor&#x27;,\n",
       "                 ColumnTransformer(transformers=[(&#x27;num&#x27;,\n",
       "                                                  Pipeline(steps=[(&#x27;imputer&#x27;,\n",
       "                                                                   SimpleImputer(strategy=&#x27;median&#x27;)),\n",
       "                                                                  (&#x27;scaler&#x27;,\n",
       "                                                                   StandardScaler())]),\n",
       "                                                  [&#x27;StoreType&#x27;, &#x27;Assortment&#x27;,\n",
       "                                                   &#x27;Promo2&#x27;, &#x27;Promo2SinceWeek&#x27;,\n",
       "                                                   &#x27;Promo2SinceYear&#x27;,\n",
       "                                                   &#x27;DayOfWeek&#x27;, &#x27;Customers&#x27;,\n",
       "                                                   &#x27;Open&#x27;, &#x27;Promo&#x27;,\n",
       "                                                   &#x27;StateHoliday&#x27;,\n",
       "                                                   &#x27;SchoolHoliday&#x27;, &#x27;SalesDay&#x27;,\n",
       "                                                   &#x27;SalesMonth&#x27;, &#x27;SalesYear&#x27;,\n",
       "                                                   &#x27;PromoIntervalMonth1&#x27;,\n",
       "                                                   &#x27;PromoIntervalMonth2&#x27;,\n",
       "                                                   &#x27;PromoIntervalMonth3&#x27;,\n",
       "                                                   &#x27;PromoIntervalMonth4&#x27;,\n",
       "                                                   &#x27;CompetitionOpenSinceYear&#x27;,\n",
       "                                                   &#x27;CompetitionDistance&#x27;,\n",
       "                                                   &#x27;CompetitionOpenSinceMonth&#x27;])])),\n",
       "                (&#x27;pca&#x27;, PCA(n_components=16)),\n",
       "                (&#x27;clf&#x27;,\n",
       "                 RandomForestRegressor(n_estimators=10, random_state=42))])</pre><b>In a Jupyter environment, please rerun this cell to show the HTML representation or trust the notebook. <br />On GitHub, the HTML representation is unable to render, please try loading this page with nbviewer.org.</b></div><div class=\"sk-container\" hidden><div class=\"sk-item sk-dashed-wrapped\"><div class=\"sk-label-container\"><div class=\"sk-label sk-toggleable\"><input class=\"sk-toggleable__control sk-hidden--visually\" id=\"sk-estimator-id-28\" type=\"checkbox\" ><label for=\"sk-estimator-id-28\" class=\"sk-toggleable__label sk-toggleable__label-arrow\">Pipeline</label><div class=\"sk-toggleable__content\"><pre>Pipeline(steps=[(&#x27;preprocessor&#x27;,\n",
       "                 ColumnTransformer(transformers=[(&#x27;num&#x27;,\n",
       "                                                  Pipeline(steps=[(&#x27;imputer&#x27;,\n",
       "                                                                   SimpleImputer(strategy=&#x27;median&#x27;)),\n",
       "                                                                  (&#x27;scaler&#x27;,\n",
       "                                                                   StandardScaler())]),\n",
       "                                                  [&#x27;StoreType&#x27;, &#x27;Assortment&#x27;,\n",
       "                                                   &#x27;Promo2&#x27;, &#x27;Promo2SinceWeek&#x27;,\n",
       "                                                   &#x27;Promo2SinceYear&#x27;,\n",
       "                                                   &#x27;DayOfWeek&#x27;, &#x27;Customers&#x27;,\n",
       "                                                   &#x27;Open&#x27;, &#x27;Promo&#x27;,\n",
       "                                                   &#x27;StateHoliday&#x27;,\n",
       "                                                   &#x27;SchoolHoliday&#x27;, &#x27;SalesDay&#x27;,\n",
       "                                                   &#x27;SalesMonth&#x27;, &#x27;SalesYear&#x27;,\n",
       "                                                   &#x27;PromoIntervalMonth1&#x27;,\n",
       "                                                   &#x27;PromoIntervalMonth2&#x27;,\n",
       "                                                   &#x27;PromoIntervalMonth3&#x27;,\n",
       "                                                   &#x27;PromoIntervalMonth4&#x27;,\n",
       "                                                   &#x27;CompetitionOpenSinceYear&#x27;,\n",
       "                                                   &#x27;CompetitionDistance&#x27;,\n",
       "                                                   &#x27;CompetitionOpenSinceMonth&#x27;])])),\n",
       "                (&#x27;pca&#x27;, PCA(n_components=16)),\n",
       "                (&#x27;clf&#x27;,\n",
       "                 RandomForestRegressor(n_estimators=10, random_state=42))])</pre></div></div></div><div class=\"sk-serial\"><div class=\"sk-item sk-dashed-wrapped\"><div class=\"sk-label-container\"><div class=\"sk-label sk-toggleable\"><input class=\"sk-toggleable__control sk-hidden--visually\" id=\"sk-estimator-id-29\" type=\"checkbox\" ><label for=\"sk-estimator-id-29\" class=\"sk-toggleable__label sk-toggleable__label-arrow\">preprocessor: ColumnTransformer</label><div class=\"sk-toggleable__content\"><pre>ColumnTransformer(transformers=[(&#x27;num&#x27;,\n",
       "                                 Pipeline(steps=[(&#x27;imputer&#x27;,\n",
       "                                                  SimpleImputer(strategy=&#x27;median&#x27;)),\n",
       "                                                 (&#x27;scaler&#x27;, StandardScaler())]),\n",
       "                                 [&#x27;StoreType&#x27;, &#x27;Assortment&#x27;, &#x27;Promo2&#x27;,\n",
       "                                  &#x27;Promo2SinceWeek&#x27;, &#x27;Promo2SinceYear&#x27;,\n",
       "                                  &#x27;DayOfWeek&#x27;, &#x27;Customers&#x27;, &#x27;Open&#x27;, &#x27;Promo&#x27;,\n",
       "                                  &#x27;StateHoliday&#x27;, &#x27;SchoolHoliday&#x27;, &#x27;SalesDay&#x27;,\n",
       "                                  &#x27;SalesMonth&#x27;, &#x27;SalesYear&#x27;,\n",
       "                                  &#x27;PromoIntervalMonth1&#x27;, &#x27;PromoIntervalMonth2&#x27;,\n",
       "                                  &#x27;PromoIntervalMonth3&#x27;, &#x27;PromoIntervalMonth4&#x27;,\n",
       "                                  &#x27;CompetitionOpenSinceYear&#x27;,\n",
       "                                  &#x27;CompetitionDistance&#x27;,\n",
       "                                  &#x27;CompetitionOpenSinceMonth&#x27;])])</pre></div></div></div><div class=\"sk-parallel\"><div class=\"sk-parallel-item\"><div class=\"sk-item\"><div class=\"sk-label-container\"><div class=\"sk-label sk-toggleable\"><input class=\"sk-toggleable__control sk-hidden--visually\" id=\"sk-estimator-id-30\" type=\"checkbox\" ><label for=\"sk-estimator-id-30\" class=\"sk-toggleable__label sk-toggleable__label-arrow\">num</label><div class=\"sk-toggleable__content\"><pre>[&#x27;StoreType&#x27;, &#x27;Assortment&#x27;, &#x27;Promo2&#x27;, &#x27;Promo2SinceWeek&#x27;, &#x27;Promo2SinceYear&#x27;, &#x27;DayOfWeek&#x27;, &#x27;Customers&#x27;, &#x27;Open&#x27;, &#x27;Promo&#x27;, &#x27;StateHoliday&#x27;, &#x27;SchoolHoliday&#x27;, &#x27;SalesDay&#x27;, &#x27;SalesMonth&#x27;, &#x27;SalesYear&#x27;, &#x27;PromoIntervalMonth1&#x27;, &#x27;PromoIntervalMonth2&#x27;, &#x27;PromoIntervalMonth3&#x27;, &#x27;PromoIntervalMonth4&#x27;, &#x27;CompetitionOpenSinceYear&#x27;, &#x27;CompetitionDistance&#x27;, &#x27;CompetitionOpenSinceMonth&#x27;]</pre></div></div></div><div class=\"sk-serial\"><div class=\"sk-item\"><div class=\"sk-serial\"><div class=\"sk-item\"><div class=\"sk-estimator sk-toggleable\"><input class=\"sk-toggleable__control sk-hidden--visually\" id=\"sk-estimator-id-31\" type=\"checkbox\" ><label for=\"sk-estimator-id-31\" class=\"sk-toggleable__label sk-toggleable__label-arrow\">SimpleImputer</label><div class=\"sk-toggleable__content\"><pre>SimpleImputer(strategy=&#x27;median&#x27;)</pre></div></div></div><div class=\"sk-item\"><div class=\"sk-estimator sk-toggleable\"><input class=\"sk-toggleable__control sk-hidden--visually\" id=\"sk-estimator-id-32\" type=\"checkbox\" ><label for=\"sk-estimator-id-32\" class=\"sk-toggleable__label sk-toggleable__label-arrow\">StandardScaler</label><div class=\"sk-toggleable__content\"><pre>StandardScaler()</pre></div></div></div></div></div></div></div></div></div></div><div class=\"sk-item\"><div class=\"sk-estimator sk-toggleable\"><input class=\"sk-toggleable__control sk-hidden--visually\" id=\"sk-estimator-id-33\" type=\"checkbox\" ><label for=\"sk-estimator-id-33\" class=\"sk-toggleable__label sk-toggleable__label-arrow\">PCA</label><div class=\"sk-toggleable__content\"><pre>PCA(n_components=16)</pre></div></div></div><div class=\"sk-item\"><div class=\"sk-estimator sk-toggleable\"><input class=\"sk-toggleable__control sk-hidden--visually\" id=\"sk-estimator-id-34\" type=\"checkbox\" ><label for=\"sk-estimator-id-34\" class=\"sk-toggleable__label sk-toggleable__label-arrow\">RandomForestRegressor</label><div class=\"sk-toggleable__content\"><pre>RandomForestRegressor(n_estimators=10, random_state=42)</pre></div></div></div></div></div></div></div>"
      ],
      "text/plain": [
       "Pipeline(steps=[('preprocessor',\n",
       "                 ColumnTransformer(transformers=[('num',\n",
       "                                                  Pipeline(steps=[('imputer',\n",
       "                                                                   SimpleImputer(strategy='median')),\n",
       "                                                                  ('scaler',\n",
       "                                                                   StandardScaler())]),\n",
       "                                                  ['StoreType', 'Assortment',\n",
       "                                                   'Promo2', 'Promo2SinceWeek',\n",
       "                                                   'Promo2SinceYear',\n",
       "                                                   'DayOfWeek', 'Customers',\n",
       "                                                   'Open', 'Promo',\n",
       "                                                   'StateHoliday',\n",
       "                                                   'SchoolHoliday', 'SalesDay',\n",
       "                                                   'SalesMonth', 'SalesYear',\n",
       "                                                   'PromoIntervalMonth1',\n",
       "                                                   'PromoIntervalMonth2',\n",
       "                                                   'PromoIntervalMonth3',\n",
       "                                                   'PromoIntervalMonth4',\n",
       "                                                   'CompetitionOpenSinceYear',\n",
       "                                                   'CompetitionDistance',\n",
       "                                                   'CompetitionOpenSinceMonth'])])),\n",
       "                ('pca', PCA(n_components=16)),\n",
       "                ('clf',\n",
       "                 RandomForestRegressor(n_estimators=10, random_state=42))])"
      ]
     },
     "execution_count": 32,
     "metadata": {},
     "output_type": "execute_result"
    }
   ],
   "source": [
    "pipeline_random_forest_regressor = Pipeline(\n",
    "    steps=[\n",
    "        (\"preprocessor\", preprocessor), \n",
    "        (\"pca\",PCA(n_components = pca_no_componentes)), \n",
    "        (\"clf\", RandomForestRegressor(random_state = pipeline_random_state, \n",
    "                                      n_estimators = rfr_n_estimators))\n",
    "    ]\n",
    ")\n",
    "pipeline_random_forest_regressor"
   ]
  },
  {
   "cell_type": "markdown",
   "metadata": {},
   "source": [
    "### Pipeline - Stacking Regressor"
   ]
  },
  {
   "cell_type": "code",
   "execution_count": 33,
   "metadata": {
    "ExecuteTime": {
     "end_time": "2024-05-25T21:50:33.627482Z",
     "start_time": "2024-05-25T21:50:33.607717Z"
    },
    "collapsed": false,
    "jupyter": {
     "outputs_hidden": false
    },
    "tags": []
   },
   "outputs": [
    {
     "data": {
      "text/html": [
       "<style>#sk-container-id-6 {color: black;}#sk-container-id-6 pre{padding: 0;}#sk-container-id-6 div.sk-toggleable {background-color: white;}#sk-container-id-6 label.sk-toggleable__label {cursor: pointer;display: block;width: 100%;margin-bottom: 0;padding: 0.3em;box-sizing: border-box;text-align: center;}#sk-container-id-6 label.sk-toggleable__label-arrow:before {content: \"▸\";float: left;margin-right: 0.25em;color: #696969;}#sk-container-id-6 label.sk-toggleable__label-arrow:hover:before {color: black;}#sk-container-id-6 div.sk-estimator:hover label.sk-toggleable__label-arrow:before {color: black;}#sk-container-id-6 div.sk-toggleable__content {max-height: 0;max-width: 0;overflow: hidden;text-align: left;background-color: #f0f8ff;}#sk-container-id-6 div.sk-toggleable__content pre {margin: 0.2em;color: black;border-radius: 0.25em;background-color: #f0f8ff;}#sk-container-id-6 input.sk-toggleable__control:checked~div.sk-toggleable__content {max-height: 200px;max-width: 100%;overflow: auto;}#sk-container-id-6 input.sk-toggleable__control:checked~label.sk-toggleable__label-arrow:before {content: \"▾\";}#sk-container-id-6 div.sk-estimator input.sk-toggleable__control:checked~label.sk-toggleable__label {background-color: #d4ebff;}#sk-container-id-6 div.sk-label input.sk-toggleable__control:checked~label.sk-toggleable__label {background-color: #d4ebff;}#sk-container-id-6 input.sk-hidden--visually {border: 0;clip: rect(1px 1px 1px 1px);clip: rect(1px, 1px, 1px, 1px);height: 1px;margin: -1px;overflow: hidden;padding: 0;position: absolute;width: 1px;}#sk-container-id-6 div.sk-estimator {font-family: monospace;background-color: #f0f8ff;border: 1px dotted black;border-radius: 0.25em;box-sizing: border-box;margin-bottom: 0.5em;}#sk-container-id-6 div.sk-estimator:hover {background-color: #d4ebff;}#sk-container-id-6 div.sk-parallel-item::after {content: \"\";width: 100%;border-bottom: 1px solid gray;flex-grow: 1;}#sk-container-id-6 div.sk-label:hover label.sk-toggleable__label {background-color: #d4ebff;}#sk-container-id-6 div.sk-serial::before {content: \"\";position: absolute;border-left: 1px solid gray;box-sizing: border-box;top: 0;bottom: 0;left: 50%;z-index: 0;}#sk-container-id-6 div.sk-serial {display: flex;flex-direction: column;align-items: center;background-color: white;padding-right: 0.2em;padding-left: 0.2em;position: relative;}#sk-container-id-6 div.sk-item {position: relative;z-index: 1;}#sk-container-id-6 div.sk-parallel {display: flex;align-items: stretch;justify-content: center;background-color: white;position: relative;}#sk-container-id-6 div.sk-item::before, #sk-container-id-6 div.sk-parallel-item::before {content: \"\";position: absolute;border-left: 1px solid gray;box-sizing: border-box;top: 0;bottom: 0;left: 50%;z-index: -1;}#sk-container-id-6 div.sk-parallel-item {display: flex;flex-direction: column;z-index: 1;position: relative;background-color: white;}#sk-container-id-6 div.sk-parallel-item:first-child::after {align-self: flex-end;width: 50%;}#sk-container-id-6 div.sk-parallel-item:last-child::after {align-self: flex-start;width: 50%;}#sk-container-id-6 div.sk-parallel-item:only-child::after {width: 0;}#sk-container-id-6 div.sk-dashed-wrapped {border: 1px dashed gray;margin: 0 0.4em 0.5em 0.4em;box-sizing: border-box;padding-bottom: 0.4em;background-color: white;}#sk-container-id-6 div.sk-label label {font-family: monospace;font-weight: bold;display: inline-block;line-height: 1.2em;}#sk-container-id-6 div.sk-label-container {text-align: center;}#sk-container-id-6 div.sk-container {/* jupyter's `normalize.less` sets `[hidden] { display: none; }` but bootstrap.min.css set `[hidden] { display: none !important; }` so we also need the `!important` here to be able to override the default hidden behavior on the sphinx rendered scikit-learn.org. See: https://github.com/scikit-learn/scikit-learn/issues/21755 */display: inline-block !important;position: relative;}#sk-container-id-6 div.sk-text-repr-fallback {display: none;}</style><div id=\"sk-container-id-6\" class=\"sk-top-container\"><div class=\"sk-text-repr-fallback\"><pre>StackingRegressor(estimators=[(&#x27;Decision Tree Regressor&#x27;,\n",
       "                               DecisionTreeRegressor(max_depth=15,\n",
       "                                                     min_samples_leaf=3,\n",
       "                                                     min_samples_split=8,\n",
       "                                                     random_state=42)),\n",
       "                              (&#x27;Lasso&#x27;,\n",
       "                               Lasso(alpha=1, max_iter=5, random_state=42,\n",
       "                                     tol=1e-05)),\n",
       "                              (&#x27;Lineal Regression&#x27;, LinearRegression()),\n",
       "                              (&#x27;Random Forest Regressor&#x27;,\n",
       "                               RandomForestRegressor(n_estimators=5,\n",
       "                                                     random_state=42))],\n",
       "                  final_estimator=Lasso(alpha=1, max_iter=50, random_state=42))</pre><b>In a Jupyter environment, please rerun this cell to show the HTML representation or trust the notebook. <br />On GitHub, the HTML representation is unable to render, please try loading this page with nbviewer.org.</b></div><div class=\"sk-container\" hidden><div class=\"sk-item sk-dashed-wrapped\"><div class=\"sk-label-container\"><div class=\"sk-label sk-toggleable\"><input class=\"sk-toggleable__control sk-hidden--visually\" id=\"sk-estimator-id-35\" type=\"checkbox\" ><label for=\"sk-estimator-id-35\" class=\"sk-toggleable__label sk-toggleable__label-arrow\">StackingRegressor</label><div class=\"sk-toggleable__content\"><pre>StackingRegressor(estimators=[(&#x27;Decision Tree Regressor&#x27;,\n",
       "                               DecisionTreeRegressor(max_depth=15,\n",
       "                                                     min_samples_leaf=3,\n",
       "                                                     min_samples_split=8,\n",
       "                                                     random_state=42)),\n",
       "                              (&#x27;Lasso&#x27;,\n",
       "                               Lasso(alpha=1, max_iter=5, random_state=42,\n",
       "                                     tol=1e-05)),\n",
       "                              (&#x27;Lineal Regression&#x27;, LinearRegression()),\n",
       "                              (&#x27;Random Forest Regressor&#x27;,\n",
       "                               RandomForestRegressor(n_estimators=5,\n",
       "                                                     random_state=42))],\n",
       "                  final_estimator=Lasso(alpha=1, max_iter=50, random_state=42))</pre></div></div></div><div class=\"sk-serial\"><div class=\"sk-item\"><div class=\"sk-parallel\"><div class=\"sk-parallel-item\"><div class=\"sk-item\"><div class=\"sk-label-container\"><div class=\"sk-label sk-toggleable\"><label>Decision Tree Regressor</label></div></div><div class=\"sk-serial\"><div class=\"sk-item\"><div class=\"sk-estimator sk-toggleable\"><input class=\"sk-toggleable__control sk-hidden--visually\" id=\"sk-estimator-id-36\" type=\"checkbox\" ><label for=\"sk-estimator-id-36\" class=\"sk-toggleable__label sk-toggleable__label-arrow\">DecisionTreeRegressor</label><div class=\"sk-toggleable__content\"><pre>DecisionTreeRegressor(max_depth=15, min_samples_leaf=3, min_samples_split=8,\n",
       "                      random_state=42)</pre></div></div></div></div></div></div><div class=\"sk-parallel-item\"><div class=\"sk-item\"><div class=\"sk-label-container\"><div class=\"sk-label sk-toggleable\"><label>Lasso</label></div></div><div class=\"sk-serial\"><div class=\"sk-item\"><div class=\"sk-estimator sk-toggleable\"><input class=\"sk-toggleable__control sk-hidden--visually\" id=\"sk-estimator-id-37\" type=\"checkbox\" ><label for=\"sk-estimator-id-37\" class=\"sk-toggleable__label sk-toggleable__label-arrow\">Lasso</label><div class=\"sk-toggleable__content\"><pre>Lasso(alpha=1, max_iter=5, random_state=42, tol=1e-05)</pre></div></div></div></div></div></div><div class=\"sk-parallel-item\"><div class=\"sk-item\"><div class=\"sk-label-container\"><div class=\"sk-label sk-toggleable\"><label>Lineal Regression</label></div></div><div class=\"sk-serial\"><div class=\"sk-item\"><div class=\"sk-estimator sk-toggleable\"><input class=\"sk-toggleable__control sk-hidden--visually\" id=\"sk-estimator-id-38\" type=\"checkbox\" ><label for=\"sk-estimator-id-38\" class=\"sk-toggleable__label sk-toggleable__label-arrow\">LinearRegression</label><div class=\"sk-toggleable__content\"><pre>LinearRegression()</pre></div></div></div></div></div></div><div class=\"sk-parallel-item\"><div class=\"sk-item\"><div class=\"sk-label-container\"><div class=\"sk-label sk-toggleable\"><label>Random Forest Regressor</label></div></div><div class=\"sk-serial\"><div class=\"sk-item\"><div class=\"sk-estimator sk-toggleable\"><input class=\"sk-toggleable__control sk-hidden--visually\" id=\"sk-estimator-id-39\" type=\"checkbox\" ><label for=\"sk-estimator-id-39\" class=\"sk-toggleable__label sk-toggleable__label-arrow\">RandomForestRegressor</label><div class=\"sk-toggleable__content\"><pre>RandomForestRegressor(n_estimators=5, random_state=42)</pre></div></div></div></div></div></div></div></div><div class=\"sk-item\"><div class=\"sk-parallel\"><div class=\"sk-parallel-item\"><div class=\"sk-item\"><div class=\"sk-label-container\"><div class=\"sk-label sk-toggleable\"><label>final_estimator</label></div></div><div class=\"sk-serial\"><div class=\"sk-item\"><div class=\"sk-estimator sk-toggleable\"><input class=\"sk-toggleable__control sk-hidden--visually\" id=\"sk-estimator-id-40\" type=\"checkbox\" ><label for=\"sk-estimator-id-40\" class=\"sk-toggleable__label sk-toggleable__label-arrow\">Lasso</label><div class=\"sk-toggleable__content\"><pre>Lasso(alpha=1, max_iter=50, random_state=42)</pre></div></div></div></div></div></div></div></div></div></div></div></div>"
      ],
      "text/plain": [
       "StackingRegressor(estimators=[('Decision Tree Regressor',\n",
       "                               DecisionTreeRegressor(max_depth=15,\n",
       "                                                     min_samples_leaf=3,\n",
       "                                                     min_samples_split=8,\n",
       "                                                     random_state=42)),\n",
       "                              ('Lasso',\n",
       "                               Lasso(alpha=1, max_iter=5, random_state=42,\n",
       "                                     tol=1e-05)),\n",
       "                              ('Lineal Regression', LinearRegression()),\n",
       "                              ('Random Forest Regressor',\n",
       "                               RandomForestRegressor(n_estimators=5,\n",
       "                                                     random_state=42))],\n",
       "                  final_estimator=Lasso(alpha=1, max_iter=50, random_state=42))"
      ]
     },
     "execution_count": 33,
     "metadata": {},
     "output_type": "execute_result"
    }
   ],
   "source": [
    "estimators = [\n",
    "    (\"Decision Tree Regressor\", DecisionTreeRegressor(random_state=pipeline_random_state, \n",
    "                                                      max_depth = dtr_max_depth, \n",
    "                                                      min_samples_leaf = dtr_min_samples_leaf, \n",
    "                                                      min_samples_split = dtr_min_samples_split )),\n",
    "    (\"Lasso\", Lasso(random_state = pipeline_random_state, \n",
    "                    alpha = lasso_alpha, \n",
    "                    selection = lasso_selection,\n",
    "                    max_iter = lasso_max_iter, \n",
    "                    tol = lasso_tol)),\n",
    "     (\"Lineal Regression\", LinearRegression()),\n",
    "     ('Random Forest Regressor', RandomForestRegressor(random_state = pipeline_random_state, \n",
    "                                                       n_estimators = 5))\n",
    "]\n",
    "\n",
    "pipeline_Stacking_regressor = StackingRegressor (\n",
    "    estimators=estimators,\n",
    "    final_estimator=Lasso(random_state = pipeline_random_state, \n",
    "                          alpha = lasso_alpha, \n",
    "                          selection = lasso_selection,\n",
    "                          max_iter = lasso_final_max_iter, \n",
    "                          tol = lassos_final_tot)) \n",
    "\n",
    "pipeline_Stacking_regressor"
   ]
  },
  {
   "cell_type": "code",
   "execution_count": 34,
   "metadata": {
    "ExecuteTime": {
     "end_time": "2024-05-25T21:50:35.571146Z",
     "start_time": "2024-05-25T21:50:35.565988Z"
    },
    "collapsed": false,
    "jupyter": {
     "outputs_hidden": false
    },
    "tags": []
   },
   "outputs": [],
   "source": [
    "prediction_models_to_evaluate = [\n",
    "    (pipeline_linear_regression, \"Linear Regression\"),\n",
    "    (pipeline_decision_tree_regressor, \"Decision Tree Regressor\"),\n",
    "    (pipeline_lasso, \"Lasso\"),\n",
    "    (pipeline_random_forest_regressor, \"Random Forest Regressor\"), \n",
    "    (pipeline_Stacking_regressor, \"Stacking Regressor\")   \n",
    "]\n"
   ]
  },
  {
   "cell_type": "markdown",
   "metadata": {},
   "source": [
    "## Motor de Evaluación\n"
   ]
  },
  {
   "cell_type": "code",
   "execution_count": 35,
   "metadata": {
    "ExecuteTime": {
     "end_time": "2024-05-25T23:10:29.658576Z",
     "start_time": "2024-05-25T21:57:36.010639Z"
    },
    "tags": []
   },
   "outputs": [
    {
     "name": "stdout",
     "output_type": "stream",
     "text": [
      "#########################################################\n",
      "# EVALUADOR DE MODELOS EN EJECUCIÓN - POR FAVOR, ESPERE #\n",
      "#########################################################\n",
      "\n",
      "⢎⡰ [80 / 80] - Modelo [ Stacking Regressor ] - Ventana [1095 días] - Datos [1.0 %]                                      "
     ]
    },
    {
     "data": {
      "text/html": [
       "<div>\n",
       "<style scoped>\n",
       "    .dataframe tbody tr th:only-of-type {\n",
       "        vertical-align: middle;\n",
       "    }\n",
       "\n",
       "    .dataframe tbody tr th {\n",
       "        vertical-align: top;\n",
       "    }\n",
       "\n",
       "    .dataframe thead th {\n",
       "        text-align: right;\n",
       "    }\n",
       "</style>\n",
       "<table border=\"1\" class=\"dataframe\">\n",
       "  <thead>\n",
       "    <tr style=\"text-align: right;\">\n",
       "      <th></th>\n",
       "      <th>use_case</th>\n",
       "      <th>window</th>\n",
       "      <th>data_size</th>\n",
       "      <th>algorithm</th>\n",
       "      <th>max_date</th>\n",
       "      <th>min_date</th>\n",
       "      <th>x_train_size</th>\n",
       "      <th>y_train_size</th>\n",
       "      <th>x_test_size</th>\n",
       "      <th>y_test_size</th>\n",
       "      <th>time_train</th>\n",
       "      <th>time_test</th>\n",
       "      <th>Mean absolute error</th>\n",
       "      <th>R2</th>\n",
       "    </tr>\n",
       "  </thead>\n",
       "  <tbody>\n",
       "    <tr>\n",
       "      <th>0</th>\n",
       "      <td>W7P100.0</td>\n",
       "      <td>7</td>\n",
       "      <td>100.0</td>\n",
       "      <td>Linear Regression</td>\n",
       "      <td>2015/07/31</td>\n",
       "      <td>2015/07/25</td>\n",
       "      <td>6244</td>\n",
       "      <td>6244</td>\n",
       "      <td>1561</td>\n",
       "      <td>1561</td>\n",
       "      <td>0.082823</td>\n",
       "      <td>0.005654</td>\n",
       "      <td>1025.135664</td>\n",
       "      <td>0.864754</td>\n",
       "    </tr>\n",
       "    <tr>\n",
       "      <th>1</th>\n",
       "      <td>W7P100.0</td>\n",
       "      <td>7</td>\n",
       "      <td>100.0</td>\n",
       "      <td>Decision Tree Regressor</td>\n",
       "      <td>2015/07/31</td>\n",
       "      <td>2015/07/25</td>\n",
       "      <td>6244</td>\n",
       "      <td>6244</td>\n",
       "      <td>1561</td>\n",
       "      <td>1561</td>\n",
       "      <td>0.392044</td>\n",
       "      <td>0.005762</td>\n",
       "      <td>1103.334700</td>\n",
       "      <td>0.835503</td>\n",
       "    </tr>\n",
       "    <tr>\n",
       "      <th>2</th>\n",
       "      <td>W7P100.0</td>\n",
       "      <td>7</td>\n",
       "      <td>100.0</td>\n",
       "      <td>Lasso</td>\n",
       "      <td>2015/07/31</td>\n",
       "      <td>2015/07/25</td>\n",
       "      <td>6244</td>\n",
       "      <td>6244</td>\n",
       "      <td>1561</td>\n",
       "      <td>1561</td>\n",
       "      <td>0.061395</td>\n",
       "      <td>0.006214</td>\n",
       "      <td>1027.244125</td>\n",
       "      <td>0.864237</td>\n",
       "    </tr>\n",
       "    <tr>\n",
       "      <th>3</th>\n",
       "      <td>W7P100.0</td>\n",
       "      <td>7</td>\n",
       "      <td>100.0</td>\n",
       "      <td>Random Forest Regressor</td>\n",
       "      <td>2015/07/31</td>\n",
       "      <td>2015/07/25</td>\n",
       "      <td>6244</td>\n",
       "      <td>6244</td>\n",
       "      <td>1561</td>\n",
       "      <td>1561</td>\n",
       "      <td>2.865238</td>\n",
       "      <td>0.009485</td>\n",
       "      <td>864.435490</td>\n",
       "      <td>0.896909</td>\n",
       "    </tr>\n",
       "    <tr>\n",
       "      <th>4</th>\n",
       "      <td>W7P100.0</td>\n",
       "      <td>7</td>\n",
       "      <td>100.0</td>\n",
       "      <td>Stacking Regressor</td>\n",
       "      <td>2015/07/31</td>\n",
       "      <td>2015/07/25</td>\n",
       "      <td>6244</td>\n",
       "      <td>6244</td>\n",
       "      <td>1561</td>\n",
       "      <td>1561</td>\n",
       "      <td>2.234032</td>\n",
       "      <td>0.010887</td>\n",
       "      <td>727.693524</td>\n",
       "      <td>0.929394</td>\n",
       "    </tr>\n",
       "    <tr>\n",
       "      <th>...</th>\n",
       "      <td>...</td>\n",
       "      <td>...</td>\n",
       "      <td>...</td>\n",
       "      <td>...</td>\n",
       "      <td>...</td>\n",
       "      <td>...</td>\n",
       "      <td>...</td>\n",
       "      <td>...</td>\n",
       "      <td>...</td>\n",
       "      <td>...</td>\n",
       "      <td>...</td>\n",
       "      <td>...</td>\n",
       "      <td>...</td>\n",
       "      <td>...</td>\n",
       "    </tr>\n",
       "    <tr>\n",
       "      <th>395</th>\n",
       "      <td>W1095P1.0</td>\n",
       "      <td>1095</td>\n",
       "      <td>1.0</td>\n",
       "      <td>Linear Regression</td>\n",
       "      <td>2015/07/31</td>\n",
       "      <td>2013/01/01</td>\n",
       "      <td>8137</td>\n",
       "      <td>8137</td>\n",
       "      <td>2035</td>\n",
       "      <td>2035</td>\n",
       "      <td>0.063115</td>\n",
       "      <td>0.005132</td>\n",
       "      <td>979.695637</td>\n",
       "      <td>0.868899</td>\n",
       "    </tr>\n",
       "    <tr>\n",
       "      <th>396</th>\n",
       "      <td>W1095P1.0</td>\n",
       "      <td>1095</td>\n",
       "      <td>1.0</td>\n",
       "      <td>Decision Tree Regressor</td>\n",
       "      <td>2015/07/31</td>\n",
       "      <td>2013/01/01</td>\n",
       "      <td>8137</td>\n",
       "      <td>8137</td>\n",
       "      <td>2035</td>\n",
       "      <td>2035</td>\n",
       "      <td>0.497630</td>\n",
       "      <td>0.005709</td>\n",
       "      <td>1160.995079</td>\n",
       "      <td>0.805610</td>\n",
       "    </tr>\n",
       "    <tr>\n",
       "      <th>397</th>\n",
       "      <td>W1095P1.0</td>\n",
       "      <td>1095</td>\n",
       "      <td>1.0</td>\n",
       "      <td>Lasso</td>\n",
       "      <td>2015/07/31</td>\n",
       "      <td>2013/01/01</td>\n",
       "      <td>8137</td>\n",
       "      <td>8137</td>\n",
       "      <td>2035</td>\n",
       "      <td>2035</td>\n",
       "      <td>0.073026</td>\n",
       "      <td>0.005562</td>\n",
       "      <td>979.906250</td>\n",
       "      <td>0.868872</td>\n",
       "    </tr>\n",
       "    <tr>\n",
       "      <th>398</th>\n",
       "      <td>W1095P1.0</td>\n",
       "      <td>1095</td>\n",
       "      <td>1.0</td>\n",
       "      <td>Random Forest Regressor</td>\n",
       "      <td>2015/07/31</td>\n",
       "      <td>2013/01/01</td>\n",
       "      <td>8137</td>\n",
       "      <td>8137</td>\n",
       "      <td>2035</td>\n",
       "      <td>2035</td>\n",
       "      <td>4.465952</td>\n",
       "      <td>0.011887</td>\n",
       "      <td>895.444177</td>\n",
       "      <td>0.883707</td>\n",
       "    </tr>\n",
       "    <tr>\n",
       "      <th>399</th>\n",
       "      <td>W1095P1.0</td>\n",
       "      <td>1095</td>\n",
       "      <td>1.0</td>\n",
       "      <td>Stacking Regressor</td>\n",
       "      <td>2015/07/31</td>\n",
       "      <td>2013/01/01</td>\n",
       "      <td>8137</td>\n",
       "      <td>8137</td>\n",
       "      <td>2035</td>\n",
       "      <td>2035</td>\n",
       "      <td>3.337231</td>\n",
       "      <td>0.012767</td>\n",
       "      <td>731.032802</td>\n",
       "      <td>0.924092</td>\n",
       "    </tr>\n",
       "  </tbody>\n",
       "</table>\n",
       "<p>400 rows × 14 columns</p>\n",
       "</div>"
      ],
      "text/plain": [
       "      use_case  window data_size                algorithm    max_date  \\\n",
       "0     W7P100.0       7     100.0        Linear Regression  2015/07/31   \n",
       "1     W7P100.0       7     100.0  Decision Tree Regressor  2015/07/31   \n",
       "2     W7P100.0       7     100.0                    Lasso  2015/07/31   \n",
       "3     W7P100.0       7     100.0  Random Forest Regressor  2015/07/31   \n",
       "4     W7P100.0       7     100.0       Stacking Regressor  2015/07/31   \n",
       "..         ...     ...       ...                      ...         ...   \n",
       "395  W1095P1.0    1095       1.0        Linear Regression  2015/07/31   \n",
       "396  W1095P1.0    1095       1.0  Decision Tree Regressor  2015/07/31   \n",
       "397  W1095P1.0    1095       1.0                    Lasso  2015/07/31   \n",
       "398  W1095P1.0    1095       1.0  Random Forest Regressor  2015/07/31   \n",
       "399  W1095P1.0    1095       1.0       Stacking Regressor  2015/07/31   \n",
       "\n",
       "       min_date  x_train_size  y_train_size  x_test_size  y_test_size  \\\n",
       "0    2015/07/25          6244          6244         1561         1561   \n",
       "1    2015/07/25          6244          6244         1561         1561   \n",
       "2    2015/07/25          6244          6244         1561         1561   \n",
       "3    2015/07/25          6244          6244         1561         1561   \n",
       "4    2015/07/25          6244          6244         1561         1561   \n",
       "..          ...           ...           ...          ...          ...   \n",
       "395  2013/01/01          8137          8137         2035         2035   \n",
       "396  2013/01/01          8137          8137         2035         2035   \n",
       "397  2013/01/01          8137          8137         2035         2035   \n",
       "398  2013/01/01          8137          8137         2035         2035   \n",
       "399  2013/01/01          8137          8137         2035         2035   \n",
       "\n",
       "     time_train  time_test  Mean absolute error       R2   \n",
       "0      0.082823   0.005654          1025.135664  0.864754  \n",
       "1      0.392044   0.005762          1103.334700  0.835503  \n",
       "2      0.061395   0.006214          1027.244125  0.864237  \n",
       "3      2.865238   0.009485           864.435490  0.896909  \n",
       "4      2.234032   0.010887           727.693524  0.929394  \n",
       "..          ...        ...                  ...       ...  \n",
       "395    0.063115   0.005132           979.695637  0.868899  \n",
       "396    0.497630   0.005709          1160.995079  0.805610  \n",
       "397    0.073026   0.005562           979.906250  0.868872  \n",
       "398    4.465952   0.011887           895.444177  0.883707  \n",
       "399    3.337231   0.012767           731.032802  0.924092  \n",
       "\n",
       "[400 rows x 14 columns]"
      ]
     },
     "metadata": {},
     "output_type": "display_data"
    }
   ],
   "source": [
    "# Inicializamos contadores\n",
    "no_use_case = 1\n",
    "no_total_use_cases = len(windows) * len(percents_by_windows)\n",
    "\n",
    "# Inicializamos el diccionario de resultados de la evaluación\n",
    "resultsData = \\\n",
    "    initializeResumeData()\n",
    "\n",
    "scores = defaultdict(list)\n",
    "symbols = [\"⢎⡰\", \"⢎⡡\", \"⢎⡑\", \"⢎⠱\", \"⠎⡱\", \"⢊⡱\", \"⢌⡱\", \"⢆⡱\"]\n",
    "\n",
    "print(\"#########################################################\")\n",
    "print(\"# EVALUADOR DE MODELOS EN EJECUCIÓN - POR FAVOR, ESPERE #\")      \n",
    "print(\"#########################################################\")\n",
    "print(\"\")\n",
    "# Recorremos todas las ventanas temporales\n",
    "for window in windows:\n",
    "    \n",
    "    index_percent = 0\n",
    "    \n",
    "    # Recorremos todos los porcentajes de datos que se usarán para el entrenamiento\n",
    "    for percent_of_returned_rows in percents_by_windows:       \n",
    "            \n",
    "        symbol = symbols[no_use_case % len(symbols)]\n",
    "\n",
    "        last_no_days = window\n",
    "\n",
    "        # Obtenemos un DataFrame preparado para esta Ventana de Tiempo y\n",
    "        # para el porcentaje de datos asociado\n",
    "        useCaseDF = \\\n",
    "            adjustDataFrameForUseCase(enrichedMegaDF, \n",
    "                                      last_no_days, \n",
    "                                      percent_of_returned_rows)\n",
    "        \n",
    "        # Obtenemos los DataFrames de entrenamiento y test para ejecutar el\n",
    "        # modelo\n",
    "        X_train, X_test, Y_train, Y_test = \\\n",
    "            getDataFramesForTrainAndTest(useCaseDF, \n",
    "                                        percent_train, \n",
    "                                        columns_for_inference, \n",
    "                                        column_to_predict)\n",
    "        \n",
    "        df_model_date = useCaseDF['Date'].agg(['min', 'max'])\n",
    "\n",
    "        # Creamos un identificador único para cada ventana\n",
    "        id_use_case = \"W\" + str(window) + \"P\" + str(percent_of_returned_rows * 100)\n",
    "        \n",
    "        for i, (model, name) in enumerate(prediction_models_to_evaluate):\n",
    "            \n",
    "            data_percent = str(percent_of_returned_rows * 100)\n",
    "            print(f\"\\r                                                                                                                        \", end=\"\")\n",
    "            print(f\"\\r{symbol} [{no_use_case} / {no_total_use_cases}] - Modelo [ {name} ] - Ventana [{window} días] - Datos [{data_percent} %]\", end=\"\")\n",
    "\n",
    "            # Almacenamos detalles de la ejecución\n",
    "            scores[\"use_case\"].append(id_use_case)\n",
    "            scores[\"window\"].append(window)\n",
    "            scores[\"data_size\"].append(str(percent_of_returned_rows * 100))\n",
    "            scores[\"algorithm\"].append(name)\n",
    "        \n",
    "            # Almacenamos las fechas de principio y fin que se han tomado del csv de datos\n",
    "            scores['max_date'].append(df_model_date['max'].strftime('%Y/%m/%d'))\n",
    "            scores['min_date'].append(df_model_date['min'].strftime('%Y/%m/%d'))\n",
    "            \n",
    "            # Almacenamos el tamaño de los conjuntos de entrenamiento y test\n",
    "            scores[\"x_train_size\"].append(len(X_train))\n",
    "            scores[\"y_train_size\"].append(len(Y_train))\n",
    "            scores[\"x_test_size\"].append(len(X_test))\n",
    "            scores[\"y_test_size\"].append(len(Y_test))\n",
    "            \n",
    "            #################################################\n",
    "            #   ESPACIDO PARA EL CÓDIGO FUENTE DEL MODELO   #\n",
    "            #################################################\n",
    "                   \n",
    "            # Entrenar el modelo con los datos de entrenamiento\n",
    "            start_time = time.perf_counter()\n",
    "            model.fit(X_train, Y_train)\n",
    "            end_time = time.perf_counter()\n",
    "            scores['time_train'].append(end_time - start_time) \n",
    "            # Predecir los valores de la variable objetivo para los datos de prueba\n",
    "            start_time = time.perf_counter()\n",
    "            Y_pred = model.predict(X_test)\n",
    "            end_time = time.perf_counter()\n",
    "            scores['time_test'].append(end_time - start_time)               \n",
    "    \n",
    "            #######################################################\n",
    "            #   ESPACIO PARA CALCULAR EL RENDIMIENTO DEL MODELO   #\n",
    "            #######################################################\n",
    "            \n",
    "            for metric in [metrics.mean_absolute_error, metrics.r2_score]:\n",
    "                score_name = metric.__name__.replace(\"_\", \" \").replace(\"score\", \"\").capitalize()\n",
    "                scores[score_name].append(metric(Y_test, Y_pred))          \n",
    "        \n",
    "        index_percent += 1\n",
    "        no_use_case += 1\n",
    "\n",
    "resultsDF = pd.DataFrame(scores)\n",
    "file_name = os.path.join(data_directory, csv_evaluation_resume)\n",
    "resultsDF.to_csv(file_name, encoding='utf-8', index=False)\n",
    "\n",
    "display(resultsDF)"
   ]
  },
  {
   "cell_type": "markdown",
   "metadata": {},
   "source": [
    "\n"
   ]
  },
  {
   "cell_type": "code",
   "execution_count": 36,
   "metadata": {
    "ExecuteTime": {
     "end_time": "2024-05-25T21:04:51.382828Z",
     "start_time": "2024-05-25T21:04:51.325487Z"
    }
   },
   "outputs": [
    {
     "ename": "ModuleNotFoundError",
     "evalue": "No module named 'sinfo'",
     "output_type": "error",
     "traceback": [
      "\u001b[1;31m---------------------------------------------------------------------------\u001b[0m",
      "\u001b[1;31mModuleNotFoundError\u001b[0m                       Traceback (most recent call last)",
      "Cell \u001b[1;32mIn[36], line 1\u001b[0m\n\u001b[1;32m----> 1\u001b[0m \u001b[38;5;28;01mfrom\u001b[39;00m \u001b[38;5;21;01msinfo\u001b[39;00m \u001b[38;5;28;01mimport\u001b[39;00m sinfo\n\u001b[0;32m      2\u001b[0m sinfo()\n",
      "\u001b[1;31mModuleNotFoundError\u001b[0m: No module named 'sinfo'"
     ]
    }
   ],
   "source": [
    "from sinfo import sinfo\n",
    "sinfo()"
   ]
  }
 ],
 "metadata": {
  "kernelspec": {
   "display_name": "Python 3 (ipykernel)",
   "language": "python",
   "name": "python3"
  },
  "language_info": {
   "codemirror_mode": {
    "name": "ipython",
    "version": 3
   },
   "file_extension": ".py",
   "mimetype": "text/x-python",
   "name": "python",
   "nbconvert_exporter": "python",
   "pygments_lexer": "ipython3",
   "version": "3.11.4"
  }
 },
 "nbformat": 4,
 "nbformat_minor": 4
}
